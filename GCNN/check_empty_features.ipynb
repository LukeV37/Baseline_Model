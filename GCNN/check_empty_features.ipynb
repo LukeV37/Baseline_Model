{
 "cells": [
  {
   "cell_type": "code",
   "execution_count": 1,
   "id": "b2fcf5cb",
   "metadata": {},
   "outputs": [],
   "source": [
    "import numpy as np"
   ]
  },
  {
   "cell_type": "code",
   "execution_count": 2,
   "id": "85ca98cc",
   "metadata": {},
   "outputs": [],
   "source": [
    "data = np.loadtxt('../../data/ttbar/train_data.txt')\n",
    "edges = np.loadtxt('../../data/ttbar/train_edges.txt')"
   ]
  },
  {
   "cell_type": "code",
   "execution_count": 4,
   "id": "fcaa1eda",
   "metadata": {},
   "outputs": [
    {
     "name": "stdout",
     "output_type": "stream",
     "text": [
      "3537425\n",
      "2692850\n",
      "0\n"
     ]
    }
   ],
   "source": [
    "IDs = set()\n",
    "for i in range(len(data)):\n",
    "    IDs.add(data[i,4])\n",
    "    \n",
    "print(len(IDs))\n",
    "\n",
    "ghost=[]\n",
    "edge_IDs = set()\n",
    "for i in range(len(edges)):\n",
    "    edge_IDs.add(edges[i,0])\n",
    "    if edges[i,0] not in IDs:\n",
    "        ghost.appends(edges[i,0])\n",
    "        \n",
    "print(len(edge_IDs))\n",
    "print(len(ghost))"
   ]
  },
  {
   "cell_type": "code",
   "execution_count": null,
   "id": "630bd271",
   "metadata": {},
   "outputs": [],
   "source": []
  }
 ],
 "metadata": {
  "kernelspec": {
   "display_name": "Python 3 (ipykernel)",
   "language": "python",
   "name": "python3"
  },
  "language_info": {
   "codemirror_mode": {
    "name": "ipython",
    "version": 3
   },
   "file_extension": ".py",
   "mimetype": "text/x-python",
   "name": "python",
   "nbconvert_exporter": "python",
   "pygments_lexer": "ipython3",
   "version": "3.10.12"
  }
 },
 "nbformat": 4,
 "nbformat_minor": 5
}
