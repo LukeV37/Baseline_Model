{
 "cells": [
  {
   "cell_type": "code",
   "execution_count": 1,
   "id": "04f0d6c9",
   "metadata": {},
   "outputs": [
    {
     "name": "stderr",
     "output_type": "stream",
     "text": [
      "2023-12-09 00:09:41.302931: I tensorflow/core/util/port.cc:111] oneDNN custom operations are on. You may see slightly different numerical results due to floating-point round-off errors from different computation orders. To turn them off, set the environment variable `TF_ENABLE_ONEDNN_OPTS=0`.\n",
      "2023-12-09 00:09:41.329297: E tensorflow/compiler/xla/stream_executor/cuda/cuda_dnn.cc:9342] Unable to register cuDNN factory: Attempting to register factory for plugin cuDNN when one has already been registered\n",
      "2023-12-09 00:09:41.329326: E tensorflow/compiler/xla/stream_executor/cuda/cuda_fft.cc:609] Unable to register cuFFT factory: Attempting to register factory for plugin cuFFT when one has already been registered\n",
      "2023-12-09 00:09:41.329354: E tensorflow/compiler/xla/stream_executor/cuda/cuda_blas.cc:1518] Unable to register cuBLAS factory: Attempting to register factory for plugin cuBLAS when one has already been registered\n",
      "2023-12-09 00:09:41.335215: I tensorflow/core/platform/cpu_feature_guard.cc:182] This TensorFlow binary is optimized to use available CPU instructions in performance-critical operations.\n",
      "To enable the following instructions: AVX2 AVX_VNNI FMA, in other operations, rebuild TensorFlow with the appropriate compiler flags.\n",
      "/usr/lib/python3/dist-packages/scipy/__init__.py:146: UserWarning: A NumPy version >=1.17.3 and <1.25.0 is required for this version of SciPy (detected version 1.26.1\n",
      "  warnings.warn(f\"A NumPy version >={np_minversion} and <{np_maxversion}\"\n"
     ]
    }
   ],
   "source": [
    "import numpy as np\n",
    "import matplotlib.pyplot as plt\n",
    "import tensorflow as tf\n",
    "from tensorflow import keras\n",
    "from tensorflow.keras import layers\n",
    "from tensorflow.keras import metrics\n",
    "import pandas as pd"
   ]
  },
  {
   "cell_type": "code",
   "execution_count": 2,
   "id": "6765891e",
   "metadata": {},
   "outputs": [
    {
     "name": "stdout",
     "output_type": "stream",
     "text": [
      "2.14.0\n",
      "Num GPUs Available:  1\n"
     ]
    }
   ],
   "source": [
    "print(tf.__version__)\n",
    "print(\"Num GPUs Available: \", len(tf.config.list_physical_devices('GPU')))"
   ]
  },
  {
   "cell_type": "markdown",
   "id": "3a4d79c0",
   "metadata": {},
   "source": [
    "## Load Data from Text File"
   ]
  },
  {
   "cell_type": "code",
   "execution_count": 3,
   "id": "238e1f47",
   "metadata": {},
   "outputs": [],
   "source": [
    "train_data = np.loadtxt(\"../../data/ttbar100k/train_data.txt\")\n",
    "train_edges = np.loadtxt(\"../../data/ttbar100k/train_edges.txt\")\n",
    "\n",
    "x_train = train_data[:,0:3]\n",
    "y_train = train_data[:,3]\n",
    "\n",
    "test_data = np.loadtxt(\"../../data/ttbar100k/test_data.txt\")\n",
    "test_edges = np.loadtxt(\"../../data/ttbar100k/test_edges.txt\")\n",
    "\n",
    "x_test = test_data[:,0:3]\n",
    "y_test = test_data[:,3]"
   ]
  },
  {
   "cell_type": "markdown",
   "id": "5e6b3e50",
   "metadata": {},
   "source": [
    "## Convert Edges to Zero based Indicies"
   ]
  },
  {
   "cell_type": "markdown",
   "id": "22cad8e4",
   "metadata": {},
   "source": [
    "*After the padding in the data was removed, the unique jetID used to create edges became sparse. We need to convert the unique jetID back into zero based indicies.*"
   ]
  },
  {
   "cell_type": "code",
   "execution_count": 4,
   "id": "37a3e70a",
   "metadata": {},
   "outputs": [],
   "source": [
    "idx_train = np.array(train_data[:, -1], dtype=np.int32) # Reading node-ids\n",
    "idx_map_train = {j: i for i, j in enumerate(idx_train)} # Creating index for nodes to map it in adjacency matrix   \n",
    "edges_train = np.array(list(map(idx_map_train.get, train_edges.flatten())),dtype=np.int32).reshape(train_edges.shape) # Mapping node-ids in the edge list to the index\n",
    "\n",
    "idx_test = np.array(test_data[:, -1], dtype=np.int32) # Reading node-ids\n",
    "idx_map_test = {j: i for i, j in enumerate(idx_test)} # Creating index for nodes to map it in adjacency matrix   \n",
    "edges_test = np.array(list(map(idx_map_test.get, test_edges.flatten())),dtype=np.int32).reshape(test_edges.shape) # Mapping node-ids in the edge list to the index"
   ]
  },
  {
   "cell_type": "markdown",
   "id": "af1d96a0",
   "metadata": {},
   "source": [
    "## Constuct Graph Info "
   ]
  },
  {
   "cell_type": "markdown",
   "id": "babd4dc1",
   "metadata": {},
   "source": [
    "*Node Features, Edges, and Edge Weights*"
   ]
  },
  {
   "cell_type": "code",
   "execution_count": 5,
   "id": "69531a31",
   "metadata": {},
   "outputs": [
    {
     "name": "stdout",
     "output_type": "stream",
     "text": [
      "Edges shape: (2, 3050108)\n",
      "Nodes shape: (990891, 3)\n"
     ]
    },
    {
     "name": "stderr",
     "output_type": "stream",
     "text": [
      "2023-12-09 00:09:44.259572: I tensorflow/core/common_runtime/gpu/gpu_device.cc:1886] Created device /job:localhost/replica:0/task:0/device:GPU:0 with 22396 MB memory:  -> device: 0, name: NVIDIA GeForce RTX 3090, pci bus id: 0000:01:00.0, compute capability: 8.6\n"
     ]
    }
   ],
   "source": [
    "#Construct graph info\n",
    "\n",
    "# Create an edges array (sparse adjacency matrix) of shape [2, num_edges].\n",
    "edges_train = edges_train.T\n",
    "\n",
    "# Create an edge weights array of ones.\n",
    "edge_weights = tf.ones(shape=edges_train.shape[1])\n",
    "\n",
    "# Create a node features array of shape [num_nodes, num_features].\n",
    "node_features = tf.cast(train_data[:,0:3], dtype=tf.dtypes.float32)\n",
    "\n",
    "# Create graph info tuple with node_features, edges, and edge_weights.\n",
    "graph_info = (node_features, edges_train, edge_weights)\n",
    "\n",
    "print(\"Edges shape:\", edges_train.shape)\n",
    "print(\"Nodes shape:\", node_features.shape)"
   ]
  },
  {
   "cell_type": "markdown",
   "id": "3361f98a",
   "metadata": {},
   "source": [
    "## Create Simple, Configurable Feed Forward Network"
   ]
  },
  {
   "cell_type": "markdown",
   "id": "0a4ca56d",
   "metadata": {},
   "source": [
    "*The FFN will be used for pre-processing and post-processing layers. It will also be used to perform permutation invariant message passing during the Graph Convolution Layer.*"
   ]
  },
  {
   "cell_type": "code",
   "execution_count": 6,
   "id": "5d543897",
   "metadata": {},
   "outputs": [],
   "source": [
    "def create_ffn(hidden_units, dropout_rate, name=None):\n",
    "    fnn_layers = []\n",
    "\n",
    "    for units in hidden_units:\n",
    "        fnn_layers.append(layers.BatchNormalization())\n",
    "        fnn_layers.append(layers.Dropout(dropout_rate))\n",
    "        fnn_layers.append(layers.Dense(units, activation=tf.nn.gelu))\n",
    "\n",
    "    return keras.Sequential(fnn_layers, name=name)"
   ]
  },
  {
   "cell_type": "code",
   "execution_count": 7,
   "id": "5763c311",
   "metadata": {},
   "outputs": [
    {
     "name": "stdout",
     "output_type": "stream",
     "text": [
      "Model: \"baseline\"\n",
      "__________________________________________________________________________________________________\n",
      " Layer (type)                Output Shape                 Param #   Connected to                  \n",
      "==================================================================================================\n",
      " input_features (InputLayer  [(None, 3)]                  0         []                            \n",
      " )                                                                                                \n",
      "                                                                                                  \n",
      " ffn_block1 (Sequential)     (None, 16)                   2524      ['input_features[0][0]']      \n",
      "                                                                                                  \n",
      " ffn_block2 (Sequential)     (None, 16)                   2784      ['ffn_block1[0][0]']          \n",
      "                                                                                                  \n",
      " skip_connection2 (Add)      (None, 16)                   0         ['ffn_block1[0][0]',          \n",
      "                                                                     'ffn_block2[0][0]']          \n",
      "                                                                                                  \n",
      " ffn_block3 (Sequential)     (None, 16)                   2784      ['skip_connection2[0][0]']    \n",
      "                                                                                                  \n",
      " skip_connection3 (Add)      (None, 16)                   0         ['skip_connection2[0][0]',    \n",
      "                                                                     'ffn_block3[0][0]']          \n",
      "                                                                                                  \n",
      " ffn_block4 (Sequential)     (None, 16)                   2784      ['skip_connection3[0][0]']    \n",
      "                                                                                                  \n",
      " skip_connection4 (Add)      (None, 16)                   0         ['skip_connection3[0][0]',    \n",
      "                                                                     'ffn_block4[0][0]']          \n",
      "                                                                                                  \n",
      " ffn_block5 (Sequential)     (None, 16)                   2784      ['skip_connection4[0][0]']    \n",
      "                                                                                                  \n",
      " skip_connection5 (Add)      (None, 16)                   0         ['skip_connection4[0][0]',    \n",
      "                                                                     'ffn_block5[0][0]']          \n",
      "                                                                                                  \n",
      " logits (Dense)              (None, 1)                    17        ['skip_connection5[0][0]']    \n",
      "                                                                                                  \n",
      "==================================================================================================\n",
      "Total params: 13677 (53.43 KB)\n",
      "Trainable params: 12743 (49.78 KB)\n",
      "Non-trainable params: 934 (3.65 KB)\n",
      "__________________________________________________________________________________________________\n"
     ]
    }
   ],
   "source": [
    "def create_baseline_model(hidden_units, num_classes, dropout_rate=0.2):\n",
    "    inputs = layers.Input(shape=(num_features,), name=\"input_features\")\n",
    "    x = create_ffn(hidden_units, dropout_rate, name=f\"ffn_block1\")(inputs)\n",
    "    for block_idx in range(4):\n",
    "        # Create an FFN block.\n",
    "        x1 = create_ffn(hidden_units, dropout_rate, name=f\"ffn_block{block_idx + 2}\")(x)\n",
    "        # Add skip connection.\n",
    "        x = layers.Add(name=f\"skip_connection{block_idx + 2}\")([x, x1])\n",
    "    # Compute logits.\n",
    "    logits = layers.Dense(num_classes, name=\"logits\", activation=\"sigmoid\")(x)\n",
    "    # Create the model.\n",
    "    return keras.Model(inputs=inputs, outputs=logits, name=\"baseline\")\n",
    "\n",
    "num_features = len(node_features[0])\n",
    "hidden_units_1 = [16, 32, 32, 16]\n",
    "dropout_rate_1 = 0.25\n",
    "num_classes_1 = 1 \n",
    "\n",
    "baseline_model = create_baseline_model(hidden_units_1, num_classes_1, dropout_rate_1)\n",
    "baseline_model.summary()\n"
   ]
  },
  {
   "cell_type": "markdown",
   "id": "479d8d57",
   "metadata": {},
   "source": [
    "## Create Graph Convolution Layer"
   ]
  },
  {
   "cell_type": "markdown",
   "id": "76233a22",
   "metadata": {},
   "source": [
    "*Graph Convolution Layers follow from the premise of deep sets: https://arxiv.org/abs/1703.06114. The following theorem states how to construct a valid set function using two transformations: $\\phi$ and $\\rho$. Since MLP are considered universal function approximators, $\\phi$ and $\\rho$ can be modeled as neural networks.*"
   ]
  },
  {
   "cell_type": "markdown",
   "id": "fd38e819",
   "metadata": {},
   "source": [
    "> **Theorem 2** A function f (X) operating on a set X having elements from a countable universe, is a\n",
    "valid set function, i.e., invariant to the permutation of instances in X, iff it can be decomposed in the\n",
    "form ρ (∑\n",
    "x∈X φ(x)), for suitable transformations φ and ρ."
   ]
  },
  {
   "cell_type": "markdown",
   "id": "ec462eff",
   "metadata": {},
   "source": [
    "*Message passing in graph neural networks is performed using the valid set funcion shown below. The node representation in the k-1 graph layer, $x_i^{(k-1)}$, will be aggregated with neighboring nodes, $x_j^{(k-1)}$, along with (optional) edge features $e_{j,i}$ using MLP $\\phi^{(k)}$. Now, $\\forall j \\in \\mathcal{N}(i)$ we perform a permutation invariant operation (sum, mean, max) on the outputs of $\\phi^{(k)}$. Then the MLP $\\rho^{(k)}$ will use the result of the permutation invariant vector along with the node representation, $x_i^{(k-1)}$, to compute the updated node embedding in the k graph layer, $x_i^{(k)}$.*"
   ]
  },
  {
   "cell_type": "markdown",
   "id": "3179c58e",
   "metadata": {},
   "source": [
    "$$\\mathbf{x}_i^{(k)} = \\rho^{(k)} \\left( \\mathbf{x}_i^{(k-1)}, \\bigoplus_{j \\in \\mathcal{N}(i)} \\, \\phi^{(k)}\\left(\\mathbf{x}_i^{(k-1)}, \\mathbf{x}_j^{(k-1)},\\mathbf{e}_{j,i}\\right) \\right),$$"
   ]
  },
  {
   "cell_type": "code",
   "execution_count": 8,
   "id": "dcd53b45",
   "metadata": {},
   "outputs": [],
   "source": [
    "# Graph convolution layer\n",
    "# source: https://keras.io/examples/graph/gnn_citations/\n",
    "class GraphConvLayer(layers.Layer):\n",
    "    def __init__(\n",
    "        self,\n",
    "        hidden_units,\n",
    "        dropout_rate=0.2,\n",
    "        aggregation_type=\"mean\",\n",
    "        combination_type=\"concat\",\n",
    "        normalize=False,\n",
    "        *args,\n",
    "        **kwargs,\n",
    "    ):\n",
    "        super().__init__(*args, **kwargs)\n",
    "\n",
    "        self.aggregation_type = aggregation_type\n",
    "        self.combination_type = combination_type\n",
    "        self.normalize = normalize\n",
    "\n",
    "        self.ffn_prepare = create_ffn(hidden_units, dropout_rate)\n",
    "        if self.combination_type == \"gated\":\n",
    "            self.update_fn = layers.GRU(\n",
    "                units=hidden_units,\n",
    "                activation=\"tanh\",\n",
    "                recurrent_activation=\"sigmoid\",\n",
    "                dropout=dropout_rate,\n",
    "                return_state=True,\n",
    "                recurrent_dropout=dropout_rate,\n",
    "            )\n",
    "        else:\n",
    "            self.update_fn = create_ffn(hidden_units, dropout_rate)\n",
    "\n",
    "    def prepare(self, node_repesentations, weights=None):\n",
    "        # node_repesentations shape is [num_edges, embedding_dim].\n",
    "        messages = self.ffn_prepare(node_repesentations)\n",
    "        if weights is not None:\n",
    "            messages = messages * tf.expand_dims(weights, -1)\n",
    "        return messages\n",
    "\n",
    "    def aggregate(self, node_indices, neighbour_messages, node_repesentations):\n",
    "        # node_indices shape is [num_edges].\n",
    "        # neighbour_messages shape: [num_edges, representation_dim].\n",
    "        # node_repesentations shape is [num_nodes, representation_dim]\n",
    "        num_nodes = node_repesentations.shape[0]\n",
    "        if self.aggregation_type == \"sum\":\n",
    "            aggregated_message = tf.math.unsorted_segment_sum(\n",
    "                neighbour_messages, node_indices, num_segments=num_nodes\n",
    "            )\n",
    "        elif self.aggregation_type == \"mean\":\n",
    "            aggregated_message = tf.math.unsorted_segment_mean(\n",
    "                neighbour_messages, node_indices, num_segments=num_nodes\n",
    "            )\n",
    "        elif self.aggregation_type == \"max\":\n",
    "            aggregated_message = tf.math.unsorted_segment_max(\n",
    "                neighbour_messages, node_indices, num_segments=num_nodes\n",
    "            )\n",
    "        else:\n",
    "            raise ValueError(f\"Invalid aggregation type: {self.aggregation_type}.\")\n",
    "\n",
    "        return aggregated_message\n",
    "\n",
    "    def update(self, node_repesentations, aggregated_messages):\n",
    "        # node_repesentations shape is [num_nodes, representation_dim].\n",
    "        # aggregated_messages shape is [num_nodes, representation_dim].\n",
    "        if self.combination_type == \"gru\":\n",
    "            # Create a sequence of two elements for the GRU layer.\n",
    "            h = tf.stack([node_repesentations, aggregated_messages], axis=1)\n",
    "        elif self.combination_type == \"concat\":\n",
    "            # Concatenate the node_repesentations and aggregated_messages.\n",
    "            h = tf.concat([node_repesentations, aggregated_messages], axis=1)\n",
    "        elif self.combination_type == \"add\":\n",
    "            # Add node_repesentations and aggregated_messages.\n",
    "            h = node_repesentations + aggregated_messages\n",
    "        else:\n",
    "            raise ValueError(f\"Invalid combination type: {self.combination_type}.\")\n",
    "\n",
    "        # Apply the processing function.\n",
    "        node_embeddings = self.update_fn(h)\n",
    "        if self.combination_type == \"gru\":\n",
    "            node_embeddings = tf.unstack(node_embeddings, axis=1)[-1]\n",
    "\n",
    "        if self.normalize:\n",
    "            node_embeddings = tf.nn.l2_normalize(node_embeddings, axis=-1)\n",
    "        return node_embeddings\n",
    "\n",
    "    def call(self, inputs):\n",
    "        \"\"\"Process the inputs to produce the node_embeddings.\n",
    "\n",
    "        inputs: a tuple of three elements: node_repesentations, edges, edge_weights.\n",
    "        Returns: node_embeddings of shape [num_nodes, representation_dim].\n",
    "        \"\"\"\n",
    "\n",
    "        node_repesentations, edges, edge_weights = inputs\n",
    "        # Get node_indices (source) and neighbour_indices (target) from edges.\n",
    "        node_indices, neighbour_indices = edges[0], edges[1]\n",
    "        # neighbour_repesentations shape is [num_edges, representation_dim].\n",
    "        neighbour_repesentations = tf.gather(node_repesentations, neighbour_indices)\n",
    "\n",
    "        # Prepare the messages of the neighbours.\n",
    "        neighbour_messages = self.prepare(neighbour_repesentations, edge_weights)\n",
    "        # Aggregate the neighbour messages.\n",
    "        aggregated_messages = self.aggregate(\n",
    "            node_indices, neighbour_messages, node_repesentations\n",
    "        )\n",
    "        # Update the node embedding with the neighbour messages.\n",
    "        return self.update(node_repesentations, aggregated_messages)\n"
   ]
  },
  {
   "cell_type": "markdown",
   "id": "4b11e525",
   "metadata": {},
   "source": [
    "## Construct GNN Node Classifier"
   ]
  },
  {
   "cell_type": "markdown",
   "id": "ae1db5a1",
   "metadata": {},
   "source": [
    "*This is the 'driver' function that links together pre-processing, graph convolution layer, post-processing layer, and the final classification layer.*"
   ]
  },
  {
   "cell_type": "code",
   "execution_count": 9,
   "id": "39e35ac8",
   "metadata": {},
   "outputs": [],
   "source": [
    "# Defines the model structure and performs classification on nodes\n",
    "# source: https://keras.io/examples/graph/gnn_citations/\n",
    "class GNNNodeClassifier(tf.keras.Model):\n",
    "    def __init__(\n",
    "        self,\n",
    "        graph_info,\n",
    "        num_classes,\n",
    "        hidden_units,\n",
    "        aggregation_type=\"sum\",\n",
    "        combination_type=\"concat\",\n",
    "        dropout_rate=0.2,\n",
    "        normalize=True,\n",
    "        *args,\n",
    "        **kwargs,\n",
    "    ):\n",
    "        super().__init__(*args, **kwargs)\n",
    "\n",
    "        # Unpack graph_info to three elements: node_features, edges, and edge_weight.\n",
    "        node_features, edges, edge_weights = graph_info\n",
    "        self.node_features = node_features\n",
    "        self.edges = edges\n",
    "        self.edge_weights = edge_weights\n",
    "        # Set edge_weights to ones if not provided.\n",
    "        if self.edge_weights is None:\n",
    "            self.edge_weights = tf.ones(shape=edges.shape[1])\n",
    "        # Scale edge_weights to sum to 1.\n",
    "        self.edge_weights = self.edge_weights / tf.math.reduce_sum(self.edge_weights)\n",
    "\n",
    "        # Create a process layer.\n",
    "        self.preprocess = create_ffn(hidden_units, dropout_rate, name=\"preprocess\")\n",
    "        # Create the first GraphConv layer.\n",
    "        self.conv1 = GraphConvLayer(\n",
    "            hidden_units,\n",
    "            dropout_rate,\n",
    "            aggregation_type,\n",
    "            combination_type,\n",
    "            normalize,\n",
    "            name=\"graph_conv1\",\n",
    "        )\n",
    "        # Create the second GraphConv layer.\n",
    "        #self.conv2 = GraphConvLayer(\n",
    "        #    hidden_units,\n",
    "        #    dropout_rate,\n",
    "        #    aggregation_type,\n",
    "        #    combination_type,\n",
    "        #    normalize,\n",
    "        #    name=\"graph_conv2\",\n",
    "        #)\n",
    "        # Create a postprocess layer.\n",
    "        self.postprocess = create_ffn(hidden_units, dropout_rate, name=\"postprocess\")\n",
    "        # Create a compute logits layer.\n",
    "        self.compute_logits = layers.Dense(units=num_classes, name=\"logits\", activation=\"sigmoid\")\n",
    "\n",
    "    def call(self, input_node_indices):\n",
    "        # Preprocess the node_features to produce node representations.\n",
    "        x = self.preprocess(self.node_features)\n",
    "        # Apply the first graph conv layer.\n",
    "        x1 = self.conv1((x, self.edges, self.edge_weights))\n",
    "        # Skip connection.\n",
    "        x = x1 + x\n",
    "        # Apply the second graph conv layer.\n",
    "        #x2 = self.conv2((x, self.edges, self.edge_weights))\n",
    "        # Skip connection.\n",
    "        #x = x2 + x\n",
    "        # Postprocess node embedding.\n",
    "        x = self.postprocess(x)\n",
    "        # Fetch node embeddings for the input node_indices.\n",
    "        node_embeddings = tf.gather(x, input_node_indices)\n",
    "        # Compute logits\n",
    "        return self.compute_logits(node_embeddings)\n"
   ]
  },
  {
   "cell_type": "markdown",
   "id": "89112789",
   "metadata": {},
   "source": [
    "## Initialize the GNN Model"
   ]
  },
  {
   "cell_type": "markdown",
   "id": "b414cddc",
   "metadata": {},
   "source": [
    "*Define model parameters, initialize GNNNodeClassifier object, and test the model by passing a list of node indicies, [1, 10, 100], to get the output score of the model. Notice the model is untrained, so these values are insignificant.*"
   ]
  },
  {
   "cell_type": "code",
   "execution_count": 10,
   "id": "11b8f57f",
   "metadata": {},
   "outputs": [
    {
     "name": "stdout",
     "output_type": "stream",
     "text": [
      "GNN output shape: tf.Tensor(\n",
      "[[0.4825223 ]\n",
      " [0.49287522]\n",
      " [0.49017018]], shape=(3, 1), dtype=float32)\n",
      "Model: \"gnn_model\"\n",
      "_________________________________________________________________\n",
      " Layer (type)                Output Shape              Param #   \n",
      "=================================================================\n",
      " preprocess (Sequential)     (990891, 16)              2524      \n",
      "                                                                 \n",
      " graph_conv1 (GraphConvLaye  multiple                  5888      \n",
      " r)                                                              \n",
      "                                                                 \n",
      " postprocess (Sequential)    (990891, 16)              2784      \n",
      "                                                                 \n",
      " logits (Dense)              multiple                  17        \n",
      "                                                                 \n",
      "=================================================================\n",
      "Total params: 11213 (43.80 KB)\n",
      "Trainable params: 10439 (40.78 KB)\n",
      "Non-trainable params: 774 (3.02 KB)\n",
      "_________________________________________________________________\n"
     ]
    }
   ],
   "source": [
    "hidden_units = [16, 32, 32, 16]\n",
    "learning_rate = 0.0005\n",
    "dropout_rate = 0.25\n",
    "num_epochs = 5\n",
    "batch_size = 1024\n",
    "num_classes = 1     # Binary Classification [0,1]\n",
    "\n",
    "gnn_model = GNNNodeClassifier(\n",
    "    graph_info=graph_info,\n",
    "    num_classes=num_classes,\n",
    "    hidden_units=hidden_units,\n",
    "    dropout_rate=dropout_rate,\n",
    "    name=\"gnn_model\",\n",
    ")\n",
    "\n",
    "print(\"GNN output shape:\", gnn_model([1,10,100]))\n",
    "\n",
    "gnn_model.summary()\n"
   ]
  },
  {
   "cell_type": "markdown",
   "id": "4660eef5",
   "metadata": {},
   "source": [
    "## Define the Training Loop"
   ]
  },
  {
   "cell_type": "markdown",
   "id": "38b2308f",
   "metadata": {},
   "source": [
    "*Compile the model with the optimizer, loss function, and training metric. Implement early stoppting to prevent overtraining. Finally, train the model using model.fit().*"
   ]
  },
  {
   "cell_type": "code",
   "execution_count": 11,
   "id": "1a75f8d4",
   "metadata": {},
   "outputs": [],
   "source": [
    "def run_experiment(model, x_train, y_train):\n",
    "    # Compile the model.\n",
    "    model.compile(\n",
    "        optimizer=keras.optimizers.Adam(learning_rate),\n",
    "        loss=keras.losses.BinaryCrossentropy(from_logits=False),\n",
    "        metrics=[keras.metrics.BinaryAccuracy(name=\"acc\")],\n",
    "    )\n",
    "    # Create an early stopping callback.\n",
    "    early_stopping = keras.callbacks.EarlyStopping(\n",
    "        monitor=\"val_acc\", patience=5, restore_best_weights=True\n",
    "    )\n",
    "    # Fit the model.\n",
    "    history = model.fit(\n",
    "        x=x_train,\n",
    "        y=y_train,\n",
    "        epochs=num_epochs,\n",
    "        batch_size=batch_size,\n",
    "        validation_split=0.15,\n",
    "        callbacks=[early_stopping],\n",
    "        shuffle=True,\n",
    "        use_multiprocessing=True,\n",
    "    )\n",
    "\n",
    "    return history"
   ]
  },
  {
   "cell_type": "code",
   "execution_count": 12,
   "id": "10141e3d",
   "metadata": {
    "scrolled": true
   },
   "outputs": [
    {
     "name": "stdout",
     "output_type": "stream",
     "text": [
      "Epoch 1/5\n"
     ]
    },
    {
     "name": "stderr",
     "output_type": "stream",
     "text": [
      "2023-12-09 00:09:51.802346: I tensorflow/compiler/xla/service/service.cc:168] XLA service 0x7fa948225340 initialized for platform CUDA (this does not guarantee that XLA will be used). Devices:\n",
      "2023-12-09 00:09:51.802373: I tensorflow/compiler/xla/service/service.cc:176]   StreamExecutor device (0): NVIDIA GeForce RTX 3090, Compute Capability 8.6\n",
      "2023-12-09 00:09:51.805324: I tensorflow/compiler/mlir/tensorflow/utils/dump_mlir_util.cc:269] disabling MLIR crash reproducer, set env var `MLIR_CRASH_REPRODUCER_DIRECTORY` to enable.\n",
      "2023-12-09 00:09:51.825281: I tensorflow/compiler/xla/stream_executor/cuda/cuda_dnn.cc:442] Loaded cuDNN version 8902\n",
      "2023-12-09 00:09:51.877437: I ./tensorflow/compiler/jit/device_compiler.h:186] Compiled cluster using XLA!  This line is logged at most once for the lifetime of the process.\n"
     ]
    },
    {
     "name": "stdout",
     "output_type": "stream",
     "text": [
      "823/823 [==============================] - 244s 288ms/step - loss: 0.6642 - acc: 0.6015 - val_loss: 0.6091 - val_acc: 0.6584\n",
      "Epoch 2/5\n",
      "823/823 [==============================] - 236s 286ms/step - loss: 0.6337 - acc: 0.6338 - val_loss: 0.6076 - val_acc: 0.6606\n",
      "Epoch 3/5\n",
      "823/823 [==============================] - 236s 287ms/step - loss: 0.6286 - acc: 0.6368 - val_loss: 0.6083 - val_acc: 0.6617\n",
      "Epoch 4/5\n",
      "823/823 [==============================] - 236s 286ms/step - loss: 0.6258 - acc: 0.6385 - val_loss: 0.6098 - val_acc: 0.6607\n",
      "Epoch 5/5\n",
      "823/823 [==============================] - 236s 287ms/step - loss: 0.6239 - acc: 0.6392 - val_loss: 0.6074 - val_acc: 0.6633\n"
     ]
    }
   ],
   "source": [
    "x_train_idx = np.arange(len(y_train))\n",
    "history = run_experiment(gnn_model, x_train_idx, y_train)"
   ]
  },
  {
   "cell_type": "code",
   "execution_count": 13,
   "id": "d4a86a7a",
   "metadata": {},
   "outputs": [
    {
     "name": "stdout",
     "output_type": "stream",
     "text": [
      "Epoch 1/5\n",
      "823/823 [==============================] - 20s 16ms/step - loss: 0.7192 - acc: 0.5895 - val_loss: 0.6171 - val_acc: 0.6575\n",
      "Epoch 2/5\n",
      "823/823 [==============================] - 13s 15ms/step - loss: 0.6370 - acc: 0.6304 - val_loss: 0.6120 - val_acc: 0.6595\n",
      "Epoch 3/5\n",
      "823/823 [==============================] - 13s 16ms/step - loss: 0.6307 - acc: 0.6346 - val_loss: 0.6097 - val_acc: 0.6636\n",
      "Epoch 4/5\n",
      "823/823 [==============================] - 13s 16ms/step - loss: 0.6280 - acc: 0.6365 - val_loss: 0.6095 - val_acc: 0.6633\n",
      "Epoch 5/5\n",
      "823/823 [==============================] - 13s 16ms/step - loss: 0.6263 - acc: 0.6375 - val_loss: 0.6085 - val_acc: 0.6625\n"
     ]
    }
   ],
   "source": [
    "history_simple_NN = run_experiment(baseline_model, x_train, y_train)"
   ]
  },
  {
   "cell_type": "markdown",
   "id": "2f7acaee",
   "metadata": {},
   "source": [
    "## Display Learning Curves"
   ]
  },
  {
   "cell_type": "code",
   "execution_count": 14,
   "id": "af15df3b",
   "metadata": {},
   "outputs": [],
   "source": [
    "def display_learning_curves(history):\n",
    "    fig, (ax1, ax2) = plt.subplots(1, 2, figsize=(15, 5))\n",
    "\n",
    "    ax1.plot(history.history[\"loss\"])\n",
    "    ax1.plot(history.history[\"val_loss\"])\n",
    "    ax1.legend([\"train\", \"validation\"], loc=\"upper right\")\n",
    "    ax1.set_xlabel(\"Epochs\")\n",
    "    ax1.set_ylabel(\"Loss\")\n",
    "\n",
    "    ax2.plot(history.history[\"acc\"])\n",
    "    ax2.plot(history.history[\"val_acc\"])\n",
    "    ax2.legend([\"train\", \"validation\"], loc=\"upper right\")\n",
    "    ax2.set_xlabel(\"Epochs\")\n",
    "    ax2.set_ylabel(\"Accuracy\")\n",
    "    plt.show()\n"
   ]
  },
  {
   "cell_type": "code",
   "execution_count": 15,
   "id": "f477fb85",
   "metadata": {},
   "outputs": [
    {
     "data": {
      "image/png": "[encoded data removed]",
      "text/plain": [
       "<Figure size 1080x360 with 2 Axes>"
      ]
     },
     "metadata": {
      "needs_background": "light"
     },
     "output_type": "display_data"
    }
   ],
   "source": [
    "display_learning_curves(history)"
   ]
  },
  {
   "cell_type": "code",
   "execution_count": 16,
   "id": "5e782c20",
   "metadata": {},
   "outputs": [
    {
     "data": {
      "image/png": "[encoded data removed]",
      "text/plain": [
       "<Figure size 1080x360 with 2 Axes>"
      ]
     },
     "metadata": {
      "needs_background": "light"
     },
     "output_type": "display_data"
    }
   ],
   "source": [
    "display_learning_curves(history_simple_NN)"
   ]
  },
  {
   "cell_type": "markdown",
   "id": "6f8a69cf",
   "metadata": {},
   "source": [
    "## Calulate ROC Curves, AUC and F1 score"
   ]
  },
  {
   "cell_type": "markdown",
   "id": "b346103a",
   "metadata": {},
   "source": [
    "*ROC Curves show TPR vs FPS. AUC is the area under the ROC curve (higher is better). $F1 = \\frac{2 * precision * recall}{precision + recall} = \\frac{2*tpr}{2*tpr+fpr*fnr}$ (higher is better). To calculate ROC Curves, x_test is used, which a fraction of the dataset that the model has not seen before.*"
   ]
  },
  {
   "cell_type": "code",
   "execution_count": 17,
   "id": "c52699c7",
   "metadata": {},
   "outputs": [],
   "source": [
    "#Construct graph info\n",
    "\n",
    "# Create an edges array (sparse adjacency matrix) of shape [2, num_edges].\n",
    "edges_test = edges_test.T\n",
    "\n",
    "# Create an edge weights array of ones.\n",
    "edge_weights = tf.ones(shape=edges_test.shape[1])\n",
    "\n",
    "# Create a node features array of shape [num_nodes, num_features].\n",
    "node_features = tf.cast(test_data[:,0:3], dtype=tf.dtypes.float32)\n",
    "\n",
    "# Create graph info tuple with node_features, edges, and edge_weights.\n",
    "graph_info = (node_features, edges_train, edge_weights)\n",
    "\n",
    "gnn_model.node_features = node_features\n",
    "gnn_model.edges = edges_test\n",
    "gnn_model.edge_weights = edge_weights"
   ]
  },
  {
   "cell_type": "code",
   "execution_count": 18,
   "id": "3049fb12",
   "metadata": {},
   "outputs": [
    {
     "name": "stdout",
     "output_type": "stream",
     "text": [
      "10333/10333 [==============================] - 215s 21ms/step\n",
      "10333/10333 [==============================] - 21s 2ms/step\n"
     ]
    }
   ],
   "source": [
    "from sklearn.metrics import roc_curve\n",
    "from sklearn.metrics import auc\n",
    "from sklearn.metrics import f1_score\n",
    "from sklearn.metrics import confusion_matrix\n",
    "from sklearn.metrics import ConfusionMatrixDisplay\n",
    "\n",
    "x_test_idx = np.arange(len(y_test))\n",
    "\n",
    "y_pred = gnn_model.predict(x_test_idx).ravel()\n",
    "y_true = y_test\n",
    "\n",
    "y_pred_simple = baseline_model.predict(x_test).ravel()\n",
    "y_true_simple = y_test"
   ]
  },
  {
   "cell_type": "code",
   "execution_count": 19,
   "id": "37370473",
   "metadata": {},
   "outputs": [
    {
     "data": {
      "image/png": "[encoded data removed]",
      "text/plain": [
       "<Figure size 432x288 with 1 Axes>"
      ]
     },
     "metadata": {
      "needs_background": "light"
     },
     "output_type": "display_data"
    }
   ],
   "source": [
    "fpr_keras, tpr_keras, thresholds_keras = roc_curve(y_true, y_pred)\n",
    "AUC = auc(fpr_keras, tpr_keras)\n",
    "plt.plot(fpr_keras, tpr_keras)\n",
    "plt.title(\"roc curve GNN\")\n",
    "plt.xlabel(\"FPR\")\n",
    "plt.ylabel(\"TPR\")\n",
    "plt.text(0.75,0.1,\"AUC:\"+str(round(AUC,6)))\n",
    "plt.show()"
   ]
  },
  {
   "cell_type": "code",
   "execution_count": 20,
   "id": "f4deb583",
   "metadata": {},
   "outputs": [
    {
     "data": {
      "image/png": "[encoded data removed]",
      "text/plain": [
       "<Figure size 432x288 with 2 Axes>"
      ]
     },
     "metadata": {
      "needs_background": "light"
     },
     "output_type": "display_data"
    },
    {
     "name": "stdout",
     "output_type": "stream",
     "text": [
      "F1 Score:  0.40342661581457223\n"
     ]
    }
   ],
   "source": [
    "threshold = 0.5\n",
    "y_pred[y_pred>=threshold]=1\n",
    "y_pred[y_pred<threshold]=0\n",
    "cm = confusion_matrix(y_true, y_pred)\n",
    "disp = ConfusionMatrixDisplay(cm)\n",
    "disp.plot()\n",
    "plt.show()\n",
    "\n",
    "F1 = f1_score(y_true, y_pred)\n",
    "print(\"F1 Score: \", F1)"
   ]
  },
  {
   "cell_type": "code",
   "execution_count": 21,
   "id": "57f0f9d8",
   "metadata": {},
   "outputs": [
    {
     "data": {
      "image/png": "[encoded data removed]",
      "text/plain": [
       "<Figure size 432x288 with 1 Axes>"
      ]
     },
     "metadata": {
      "needs_background": "light"
     },
     "output_type": "display_data"
    }
   ],
   "source": [
    "fpr_keras, tpr_keras, thresholds_keras = roc_curve(y_true_simple, y_pred_simple)\n",
    "AUC = auc(fpr_keras, tpr_keras)\n",
    "plt.plot(fpr_keras, tpr_keras)\n",
    "plt.title(\"roc curve Simple NN\")\n",
    "plt.xlabel(\"FPR\")\n",
    "plt.ylabel(\"TPR\")\n",
    "plt.text(0.75,0.1,\"AUC:\"+str(round(AUC,6)))\n",
    "plt.show()"
   ]
  },
  {
   "cell_type": "code",
   "execution_count": 22,
   "id": "12638dbc",
   "metadata": {},
   "outputs": [
    {
     "data": {
      "image/png": "[encoded data removed]",
      "text/plain": [
       "<Figure size 432x288 with 2 Axes>"
      ]
     },
     "metadata": {
      "needs_background": "light"
     },
     "output_type": "display_data"
    },
    {
     "name": "stdout",
     "output_type": "stream",
     "text": [
      "F1 Score:  0.395028874625775\n"
     ]
    }
   ],
   "source": [
    "threshold = 0.5\n",
    "y_pred_simple[y_pred_simple>=threshold]=1\n",
    "y_pred_simple[y_pred_simple<threshold]=0\n",
    "cm = confusion_matrix(y_true, y_pred_simple)\n",
    "disp = ConfusionMatrixDisplay(cm)\n",
    "disp.plot()\n",
    "plt.show()\n",
    "\n",
    "F1 = f1_score(y_true, y_pred_simple)\n",
    "print(\"F1 Score: \", F1)"
   ]
  },
  {
   "cell_type": "code",
   "execution_count": null,
   "id": "e77314d4",
   "metadata": {},
   "outputs": [],
   "source": []
  }
 ],
 "metadata": {
  "kernelspec": {
   "display_name": "Python 3 (ipykernel)",
   "language": "python",
   "name": "python3"
  },
  "language_info": {
   "codemirror_mode": {
    "name": "ipython",
    "version": 3
   },
   "file_extension": ".py",
   "mimetype": "text/x-python",
   "name": "python",
   "nbconvert_exporter": "python",
   "pygments_lexer": "ipython3",
   "version": "3.10.12"
  }
 },
 "nbformat": 4,
 "nbformat_minor": 5
}
