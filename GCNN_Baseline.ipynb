{
 "cells": [
  {
   "cell_type": "code",
   "execution_count": 1,
   "id": "04f0d6c9",
   "metadata": {},
   "outputs": [
    {
     "name": "stderr",
     "output_type": "stream",
     "text": [
      "2023-10-26 12:32:00.081411: I tensorflow/core/util/port.cc:111] oneDNN custom operations are on. You may see slightly different numerical results due to floating-point round-off errors from different computation orders. To turn them off, set the environment variable `TF_ENABLE_ONEDNN_OPTS=0`.\n",
      "2023-10-26 12:32:00.103133: E tensorflow/compiler/xla/stream_executor/cuda/cuda_dnn.cc:9342] Unable to register cuDNN factory: Attempting to register factory for plugin cuDNN when one has already been registered\n",
      "2023-10-26 12:32:00.103155: E tensorflow/compiler/xla/stream_executor/cuda/cuda_fft.cc:609] Unable to register cuFFT factory: Attempting to register factory for plugin cuFFT when one has already been registered\n",
      "2023-10-26 12:32:00.103172: E tensorflow/compiler/xla/stream_executor/cuda/cuda_blas.cc:1518] Unable to register cuBLAS factory: Attempting to register factory for plugin cuBLAS when one has already been registered\n",
      "2023-10-26 12:32:00.107655: I tensorflow/core/platform/cpu_feature_guard.cc:182] This TensorFlow binary is optimized to use available CPU instructions in performance-critical operations.\n",
      "To enable the following instructions: AVX2 AVX_VNNI FMA, in other operations, rebuild TensorFlow with the appropriate compiler flags.\n",
      "/usr/lib/python3/dist-packages/scipy/__init__.py:146: UserWarning: A NumPy version >=1.17.3 and <1.25.0 is required for this version of SciPy (detected version 1.26.1\n",
      "  warnings.warn(f\"A NumPy version >={np_minversion} and <{np_maxversion}\"\n"
     ]
    }
   ],
   "source": [
    "import numpy as np\n",
    "import matplotlib.pyplot as plt\n",
    "import tensorflow as tf\n",
    "from tensorflow import keras\n",
    "from tensorflow.keras import layers\n",
    "from tensorflow.keras import metrics"
   ]
  },
  {
   "cell_type": "code",
   "execution_count": 2,
   "id": "6765891e",
   "metadata": {},
   "outputs": [
    {
     "name": "stdout",
     "output_type": "stream",
     "text": [
      "2.14.0\n",
      "Num GPUs Available:  1\n"
     ]
    }
   ],
   "source": [
    "print(tf.__version__)\n",
    "print(\"Num GPUs Available: \", len(tf.config.list_physical_devices('GPU')))"
   ]
  },
  {
   "cell_type": "markdown",
   "id": "3a4d79c0",
   "metadata": {},
   "source": [
    "## Load Data from Text File and Reshape"
   ]
  },
  {
   "cell_type": "code",
   "execution_count": 3,
   "id": "238e1f47",
   "metadata": {},
   "outputs": [
    {
     "name": "stdout",
     "output_type": "stream",
     "text": [
      "(463, 100, 4)\n"
     ]
    }
   ],
   "source": [
    "ttbar_dataset = np.loadtxt(\"out_ttbar.txt\")\n",
    "\n",
    "jets_per_event = 100\n",
    "#max_events = 463\n",
    "#ttbar_dataset = np.loadtxt(\"out_ttbar.txt\", max_rows=max_events*jets_per_event)\n",
    "\n",
    "ttbar_len = ttbar_dataset.shape[0]\n",
    "ttbar_feat = ttbar_dataset.shape[1]\n",
    "\n",
    "ttbar_events = int(ttbar_len / jets_per_event)\n",
    "\n",
    "ttbar_dataset = ttbar_dataset.reshape((ttbar_events,jets_per_event,ttbar_feat))\n",
    "print(ttbar_dataset.shape)\n",
    "#print(ttbar_dataset)"
   ]
  },
  {
   "cell_type": "markdown",
   "id": "5e6b3e50",
   "metadata": {},
   "source": [
    "## Calculate Edges Based on Truth Information"
   ]
  },
  {
   "cell_type": "markdown",
   "id": "22cad8e4",
   "metadata": {},
   "source": [
    "*Generating Edges on Truth Information is NOT good practice and should be replaced with a physics inspired algorithm with possible attention mechanism later on. Using truth information is to show proof of concept only!*"
   ]
  },
  {
   "cell_type": "code",
   "execution_count": 4,
   "id": "37a3e70a",
   "metadata": {},
   "outputs": [
    {
     "name": "stdout",
     "output_type": "stream",
     "text": [
      "463  /  463\r"
     ]
    }
   ],
   "source": [
    "# Create an edges array (sparse adjacency matrix) of shape [2, num_edges].\n",
    "edges = arr = np.empty((0,2), int)\n",
    "labels = np.zeros((ttbar_events,jets_per_event))\n",
    "\n",
    "for event_idx in range(ttbar_events):\n",
    "    if (event_idx%1) == 0: \n",
    "        print(event_idx+1, \" / \", ttbar_events, end=\"\\r\")\n",
    "    for jet1_idx in range(jets_per_event):\n",
    "        \n",
    "        # Define proper binary classification labels\n",
    "        # Truth label of -1 corresponds to hard scattering vertex\n",
    "        # Truth lavel of anything else corresponds to pileup vertex\n",
    "        if ttbar_dataset[event_idx,jet1_idx,-1] == -1:\n",
    "            labels[event_idx,jet1_idx] = 1\n",
    "        \n",
    "        for jet2_idx in range(jet1_idx+1, jets_per_event):           \n",
    "            # ttbar_dataset[i,j,-1] corresponds to truth label\n",
    "            if ((ttbar_dataset[event_idx,jet1_idx,-1] == ttbar_dataset[event_idx,jet2_idx,-1]) and (ttbar_dataset[event_idx,jet1_idx,-1] != 0)):\n",
    "                jet1_unique_ID = event_idx*jets_per_event + jet1_idx\n",
    "                jet2_unique_ID = event_idx*jets_per_event + jet2_idx\n",
    "                edges = np.vstack((edges, [jet1_unique_ID, jet2_unique_ID]))    \n",
    "                edges = np.vstack((edges, [jet2_unique_ID, jet1_unique_ID]))\n",
    "                \n",
    "# Examine output\n",
    "#print(labels[0])\n",
    "#print(labels.shape)\n",
    "#print(edges[0:5])\n",
    "#print(edges.shape)"
   ]
  },
  {
   "cell_type": "markdown",
   "id": "78614fa2",
   "metadata": {},
   "source": [
    "## Split Dataset into Test and Train"
   ]
  },
  {
   "cell_type": "markdown",
   "id": "47d7e2a8",
   "metadata": {},
   "source": [
    "*The only information passed to the GNN Model is the unique index of the jet. This makes splitting test and train dataset easy.*"
   ]
  },
  {
   "cell_type": "code",
   "execution_count": 5,
   "id": "1867fb08",
   "metadata": {},
   "outputs": [
    {
     "name": "stdout",
     "output_type": "stream",
     "text": [
      "0.09008639308855292\n"
     ]
    }
   ],
   "source": [
    "split = 0.8\n",
    "\n",
    "idx = np.arange(ttbar_len)\n",
    "\n",
    "split_idx = int(ttbar_len * split)\n",
    "\n",
    "train_n = int(ttbar_len * split)\n",
    "labels = labels.flatten()\n",
    "\n",
    "print(np.mean(labels))\n",
    "\n",
    "#x_train = idx[0:train_n]\n",
    "#y_train = labels[:train_n]\n",
    "\n",
    "x_train = idx[0:train_n]\n",
    "y_train = labels[0:train_n]\n",
    "x_test = idx[train_n:-1]\n",
    "y_test = labels[train_n:-1]\n",
    "\n",
    "node_features = ttbar_dataset.reshape(ttbar_len, ttbar_feat)\n",
    "#print(node_features.shape)\n",
    "x_train_simple = node_features[0:train_n,0:3]\n",
    "y_train_simple = labels[0:train_n]\n",
    "x_test_simple = node_features[train_n:-1,0:3]\n",
    "y_test_simple = labels[train_n:-1]\n",
    "#print(x_train_simple.shape)"
   ]
  },
  {
   "cell_type": "markdown",
   "id": "af1d96a0",
   "metadata": {},
   "source": [
    "## Constuct Graph Info "
   ]
  },
  {
   "cell_type": "markdown",
   "id": "babd4dc1",
   "metadata": {},
   "source": [
    "*Node Features, Edges, and Edge Weights*"
   ]
  },
  {
   "cell_type": "code",
   "execution_count": 6,
   "id": "69531a31",
   "metadata": {},
   "outputs": [
    {
     "name": "stdout",
     "output_type": "stream",
     "text": [
      "Edges shape: (2, 50382)\n",
      "Nodes shape: (46300, 3)\n"
     ]
    },
    {
     "name": "stderr",
     "output_type": "stream",
     "text": [
      "2023-10-26 12:32:02.293063: I tensorflow/core/common_runtime/gpu/gpu_device.cc:1886] Created device /job:localhost/replica:0/task:0/device:GPU:0 with 22396 MB memory:  -> device: 0, name: NVIDIA GeForce RTX 3090, pci bus id: 0000:01:00.0, compute capability: 8.6\n"
     ]
    }
   ],
   "source": [
    "#Construct graph info\n",
    "\n",
    "# Create an edges array (sparse adjacency matrix) of shape [2, num_edges].\n",
    "edges = edges.T\n",
    "\n",
    "# Create an edge weights array of ones.\n",
    "edge_weights = tf.ones(shape=edges.shape[1])\n",
    "\n",
    "# Create a node features array of shape [num_nodes, num_features].\n",
    "node_features = ttbar_dataset.reshape(ttbar_len, ttbar_feat)\n",
    "node_features = tf.cast(node_features[:,0:3], dtype=tf.dtypes.float32)\n",
    "\n",
    "#node_features_train = node_features[0:train_n,:]\n",
    "#node_features_train = tf.cast(node_features_train[:,0:3], dtype=tf.dtypes.float32)\n",
    "\n",
    "#node_features_test = node_features[train_n:-1,:]\n",
    "#node_features_test = tf.cast(node_features_test[:,0:3], dtype=tf.dtypes.float32)\n",
    "\n",
    "# Create graph info tuple with node_features, edges, and edge_weights.\n",
    "graph_info = (node_features, edges, edge_weights)\n",
    "#graph_info_train = (node_features_train, edges, edge_weights)\n",
    "#graph_info_test = (node_features_test, edges, edge_weights)\n",
    "\n",
    "print(\"Edges shape:\", edges.shape)\n",
    "print(\"Nodes shape:\", node_features.shape)"
   ]
  },
  {
   "cell_type": "markdown",
   "id": "3361f98a",
   "metadata": {},
   "source": [
    "## Create Simple, Configurable Feed Forward Network"
   ]
  },
  {
   "cell_type": "markdown",
   "id": "0a4ca56d",
   "metadata": {},
   "source": [
    "*The FFN will be used for pre-processing and post-processing layers. It will also be used to perform permutation invariant message passing during the Graph Convolution Layer.*"
   ]
  },
  {
   "cell_type": "code",
   "execution_count": 7,
   "id": "5d543897",
   "metadata": {},
   "outputs": [],
   "source": [
    "def create_ffn(hidden_units, dropout_rate, name=None):\n",
    "    fnn_layers = []\n",
    "\n",
    "    for units in hidden_units:\n",
    "        fnn_layers.append(layers.BatchNormalization())\n",
    "        fnn_layers.append(layers.Dropout(dropout_rate))\n",
    "        fnn_layers.append(layers.Dense(units, activation=tf.nn.gelu))\n",
    "\n",
    "    return keras.Sequential(fnn_layers, name=name)"
   ]
  },
  {
   "cell_type": "code",
   "execution_count": 8,
   "id": "5763c311",
   "metadata": {},
   "outputs": [
    {
     "name": "stdout",
     "output_type": "stream",
     "text": [
      "Model: \"baseline\"\n",
      "__________________________________________________________________________________________________\n",
      " Layer (type)                Output Shape                 Param #   Connected to                  \n",
      "==================================================================================================\n",
      " input_features (InputLayer  [(None, 3)]                  0         []                            \n",
      " )                                                                                                \n",
      "                                                                                                  \n",
      " ffn_block1 (Sequential)     (None, 16)                   2524      ['input_features[0][0]']      \n",
      "                                                                                                  \n",
      " ffn_block2 (Sequential)     (None, 16)                   2784      ['ffn_block1[0][0]']          \n",
      "                                                                                                  \n",
      " skip_connection2 (Add)      (None, 16)                   0         ['ffn_block1[0][0]',          \n",
      "                                                                     'ffn_block2[0][0]']          \n",
      "                                                                                                  \n",
      " ffn_block3 (Sequential)     (None, 16)                   2784      ['skip_connection2[0][0]']    \n",
      "                                                                                                  \n",
      " skip_connection3 (Add)      (None, 16)                   0         ['skip_connection2[0][0]',    \n",
      "                                                                     'ffn_block3[0][0]']          \n",
      "                                                                                                  \n",
      " ffn_block4 (Sequential)     (None, 16)                   2784      ['skip_connection3[0][0]']    \n",
      "                                                                                                  \n",
      " skip_connection4 (Add)      (None, 16)                   0         ['skip_connection3[0][0]',    \n",
      "                                                                     'ffn_block4[0][0]']          \n",
      "                                                                                                  \n",
      " ffn_block5 (Sequential)     (None, 16)                   2784      ['skip_connection4[0][0]']    \n",
      "                                                                                                  \n",
      " skip_connection5 (Add)      (None, 16)                   0         ['skip_connection4[0][0]',    \n",
      "                                                                     'ffn_block5[0][0]']          \n",
      "                                                                                                  \n",
      " logits (Dense)              (None, 1)                    17        ['skip_connection5[0][0]']    \n",
      "                                                                                                  \n",
      "==================================================================================================\n",
      "Total params: 13677 (53.43 KB)\n",
      "Trainable params: 12743 (49.78 KB)\n",
      "Non-trainable params: 934 (3.65 KB)\n",
      "__________________________________________________________________________________________________\n"
     ]
    }
   ],
   "source": [
    "def create_baseline_model(hidden_units, num_classes, dropout_rate=0.2):\n",
    "    inputs = layers.Input(shape=(num_features,), name=\"input_features\")\n",
    "    x = create_ffn(hidden_units, dropout_rate, name=f\"ffn_block1\")(inputs)\n",
    "    for block_idx in range(4):\n",
    "        # Create an FFN block.\n",
    "        x1 = create_ffn(hidden_units, dropout_rate, name=f\"ffn_block{block_idx + 2}\")(x)\n",
    "        # Add skip connection.\n",
    "        x = layers.Add(name=f\"skip_connection{block_idx + 2}\")([x, x1])\n",
    "    # Compute logits.\n",
    "    logits = layers.Dense(num_classes, name=\"logits\", activation=\"sigmoid\")(x)\n",
    "    # Create the model.\n",
    "    return keras.Model(inputs=inputs, outputs=logits, name=\"baseline\")\n",
    "\n",
    "num_features = len(node_features[0])\n",
    "hidden_units_1 = [16, 32, 32, 16]\n",
    "dropout_rate_1 = 0.25\n",
    "num_classes_1 = 1 \n",
    "\n",
    "baseline_model = create_baseline_model(hidden_units_1, num_classes_1, dropout_rate_1)\n",
    "baseline_model.summary()\n"
   ]
  },
  {
   "cell_type": "markdown",
   "id": "479d8d57",
   "metadata": {},
   "source": [
    "## Create Graph Convolution Layer"
   ]
  },
  {
   "cell_type": "markdown",
   "id": "76233a22",
   "metadata": {},
   "source": [
    "*Graph Convolution Layers follow from the premise of deep sets: https://arxiv.org/abs/1703.06114. The following theorem states how to construct a valid set function using two transformations: $\\phi$ and $\\rho$. Since MLP are considered universal function approximators, $\\phi$ and $\\rho$ can be modeled as neural networks.*"
   ]
  },
  {
   "cell_type": "markdown",
   "id": "fd38e819",
   "metadata": {},
   "source": [
    "> **Theorem 2** A function f (X) operating on a set X having elements from a countable universe, is a\n",
    "valid set function, i.e., invariant to the permutation of instances in X, iff it can be decomposed in the\n",
    "form ρ (∑\n",
    "x∈X φ(x)), for suitable transformations φ and ρ."
   ]
  },
  {
   "cell_type": "markdown",
   "id": "ec462eff",
   "metadata": {},
   "source": [
    "*Message passing in graph neural networks is performed using the valid set funcion shown below. The node representation in the k-1 graph layer, $x_i^{(k-1)}$, will be aggregated with neighboring nodes, $x_j^{(k-1)}$, along with (optional) edge features $e_{j,i}$ using MLP $\\phi^{(k)}$. Now, $\\forall j \\in \\mathcal{N}(i)$ we perform a permutation invariant operation (sum, mean, max) on the outputs of $\\phi^{(k)}$. Then the MLP $\\rho^{(k)}$ will use the result of the permutation invariant vector along with the node representation, $x_i^{(k-1)}$, to compute the updated node embedding in the k graph layer, $x_i^{(k)}$.*"
   ]
  },
  {
   "cell_type": "markdown",
   "id": "3179c58e",
   "metadata": {},
   "source": [
    "$$\\mathbf{x}_i^{(k)} = \\rho^{(k)} \\left( \\mathbf{x}_i^{(k-1)}, \\bigoplus_{j \\in \\mathcal{N}(i)} \\, \\phi^{(k)}\\left(\\mathbf{x}_i^{(k-1)}, \\mathbf{x}_j^{(k-1)},\\mathbf{e}_{j,i}\\right) \\right),$$"
   ]
  },
  {
   "cell_type": "code",
   "execution_count": 9,
   "id": "dcd53b45",
   "metadata": {},
   "outputs": [],
   "source": [
    "# Graph convolution layer\n",
    "# source: https://keras.io/examples/graph/gnn_citations/\n",
    "class GraphConvLayer(layers.Layer):\n",
    "    def __init__(\n",
    "        self,\n",
    "        hidden_units,\n",
    "        dropout_rate=0.2,\n",
    "        aggregation_type=\"mean\",\n",
    "        combination_type=\"concat\",\n",
    "        normalize=False,\n",
    "        *args,\n",
    "        **kwargs,\n",
    "    ):\n",
    "        super().__init__(*args, **kwargs)\n",
    "\n",
    "        self.aggregation_type = aggregation_type\n",
    "        self.combination_type = combination_type\n",
    "        self.normalize = normalize\n",
    "\n",
    "        self.ffn_prepare = create_ffn(hidden_units, dropout_rate)\n",
    "        if self.combination_type == \"gated\":\n",
    "            self.update_fn = layers.GRU(\n",
    "                units=hidden_units,\n",
    "                activation=\"tanh\",\n",
    "                recurrent_activation=\"sigmoid\",\n",
    "                dropout=dropout_rate,\n",
    "                return_state=True,\n",
    "                recurrent_dropout=dropout_rate,\n",
    "            )\n",
    "        else:\n",
    "            self.update_fn = create_ffn(hidden_units, dropout_rate)\n",
    "\n",
    "    def prepare(self, node_repesentations, weights=None):\n",
    "        # node_repesentations shape is [num_edges, embedding_dim].\n",
    "        messages = self.ffn_prepare(node_repesentations)\n",
    "        if weights is not None:\n",
    "            messages = messages * tf.expand_dims(weights, -1)\n",
    "        return messages\n",
    "\n",
    "    def aggregate(self, node_indices, neighbour_messages, node_repesentations):\n",
    "        # node_indices shape is [num_edges].\n",
    "        # neighbour_messages shape: [num_edges, representation_dim].\n",
    "        # node_repesentations shape is [num_nodes, representation_dim]\n",
    "        num_nodes = node_repesentations.shape[0]\n",
    "        if self.aggregation_type == \"sum\":\n",
    "            aggregated_message = tf.math.unsorted_segment_sum(\n",
    "                neighbour_messages, node_indices, num_segments=num_nodes\n",
    "            )\n",
    "        elif self.aggregation_type == \"mean\":\n",
    "            aggregated_message = tf.math.unsorted_segment_mean(\n",
    "                neighbour_messages, node_indices, num_segments=num_nodes\n",
    "            )\n",
    "        elif self.aggregation_type == \"max\":\n",
    "            aggregated_message = tf.math.unsorted_segment_max(\n",
    "                neighbour_messages, node_indices, num_segments=num_nodes\n",
    "            )\n",
    "        else:\n",
    "            raise ValueError(f\"Invalid aggregation type: {self.aggregation_type}.\")\n",
    "\n",
    "        return aggregated_message\n",
    "\n",
    "    def update(self, node_repesentations, aggregated_messages):\n",
    "        # node_repesentations shape is [num_nodes, representation_dim].\n",
    "        # aggregated_messages shape is [num_nodes, representation_dim].\n",
    "        if self.combination_type == \"gru\":\n",
    "            # Create a sequence of two elements for the GRU layer.\n",
    "            h = tf.stack([node_repesentations, aggregated_messages], axis=1)\n",
    "        elif self.combination_type == \"concat\":\n",
    "            # Concatenate the node_repesentations and aggregated_messages.\n",
    "            h = tf.concat([node_repesentations, aggregated_messages], axis=1)\n",
    "        elif self.combination_type == \"add\":\n",
    "            # Add node_repesentations and aggregated_messages.\n",
    "            h = node_repesentations + aggregated_messages\n",
    "        else:\n",
    "            raise ValueError(f\"Invalid combination type: {self.combination_type}.\")\n",
    "\n",
    "        # Apply the processing function.\n",
    "        node_embeddings = self.update_fn(h)\n",
    "        if self.combination_type == \"gru\":\n",
    "            node_embeddings = tf.unstack(node_embeddings, axis=1)[-1]\n",
    "\n",
    "        if self.normalize:\n",
    "            node_embeddings = tf.nn.l2_normalize(node_embeddings, axis=-1)\n",
    "        return node_embeddings\n",
    "\n",
    "    def call(self, inputs):\n",
    "        \"\"\"Process the inputs to produce the node_embeddings.\n",
    "\n",
    "        inputs: a tuple of three elements: node_repesentations, edges, edge_weights.\n",
    "        Returns: node_embeddings of shape [num_nodes, representation_dim].\n",
    "        \"\"\"\n",
    "\n",
    "        node_repesentations, edges, edge_weights = inputs\n",
    "        # Get node_indices (source) and neighbour_indices (target) from edges.\n",
    "        node_indices, neighbour_indices = edges[0], edges[1]\n",
    "        # neighbour_repesentations shape is [num_edges, representation_dim].\n",
    "        neighbour_repesentations = tf.gather(node_repesentations, neighbour_indices)\n",
    "\n",
    "        # Prepare the messages of the neighbours.\n",
    "        neighbour_messages = self.prepare(neighbour_repesentations, edge_weights)\n",
    "        # Aggregate the neighbour messages.\n",
    "        aggregated_messages = self.aggregate(\n",
    "            node_indices, neighbour_messages, node_repesentations\n",
    "        )\n",
    "        # Update the node embedding with the neighbour messages.\n",
    "        return self.update(node_repesentations, aggregated_messages)\n"
   ]
  },
  {
   "cell_type": "markdown",
   "id": "4b11e525",
   "metadata": {},
   "source": [
    "## Construct GNN Node Classifier"
   ]
  },
  {
   "cell_type": "markdown",
   "id": "ae1db5a1",
   "metadata": {},
   "source": [
    "*This is the 'driver' function that links together pre-processing, graph convolution layer, post-processing layer, and the final classification layer.*"
   ]
  },
  {
   "cell_type": "code",
   "execution_count": 10,
   "id": "39e35ac8",
   "metadata": {},
   "outputs": [],
   "source": [
    "# Defines the model structure and performs classification on nodes\n",
    "# source: https://keras.io/examples/graph/gnn_citations/\n",
    "class GNNNodeClassifier(tf.keras.Model):\n",
    "    def __init__(\n",
    "        self,\n",
    "        graph_info,\n",
    "        num_classes,\n",
    "        hidden_units,\n",
    "        aggregation_type=\"sum\",\n",
    "        combination_type=\"concat\",\n",
    "        dropout_rate=0.2,\n",
    "        normalize=True,\n",
    "        *args,\n",
    "        **kwargs,\n",
    "    ):\n",
    "        super().__init__(*args, **kwargs)\n",
    "\n",
    "        # Unpack graph_info to three elements: node_features, edges, and edge_weight.\n",
    "        node_features, edges, edge_weights = graph_info\n",
    "        self.node_features = node_features\n",
    "        self.edges = edges\n",
    "        self.edge_weights = edge_weights\n",
    "        # Set edge_weights to ones if not provided.\n",
    "        if self.edge_weights is None:\n",
    "            self.edge_weights = tf.ones(shape=edges.shape[1])\n",
    "        # Scale edge_weights to sum to 1.\n",
    "        self.edge_weights = self.edge_weights / tf.math.reduce_sum(self.edge_weights)\n",
    "\n",
    "        # Create a process layer.\n",
    "        self.preprocess = create_ffn(hidden_units, dropout_rate, name=\"preprocess\")\n",
    "        # Create the first GraphConv layer.\n",
    "        self.conv1 = GraphConvLayer(\n",
    "            hidden_units,\n",
    "            dropout_rate,\n",
    "            aggregation_type,\n",
    "            combination_type,\n",
    "            normalize,\n",
    "            name=\"graph_conv1\",\n",
    "        )\n",
    "        # Create the second GraphConv layer.\n",
    "        #self.conv2 = GraphConvLayer(\n",
    "        #    hidden_units,\n",
    "        #    dropout_rate,\n",
    "        #    aggregation_type,\n",
    "        #    combination_type,\n",
    "        #    normalize,\n",
    "        #    name=\"graph_conv2\",\n",
    "        #)\n",
    "        # Create a postprocess layer.\n",
    "        self.postprocess = create_ffn(hidden_units, dropout_rate, name=\"postprocess\")\n",
    "        # Create a compute logits layer.\n",
    "        self.compute_logits = layers.Dense(units=num_classes, name=\"logits\", activation=\"sigmoid\")\n",
    "\n",
    "    def call(self, input_node_indices):\n",
    "        # Preprocess the node_features to produce node representations.\n",
    "        x = self.preprocess(self.node_features)\n",
    "        # Apply the first graph conv layer.\n",
    "        x1 = self.conv1((x, self.edges, self.edge_weights))\n",
    "        # Skip connection.\n",
    "        x = x1 + x\n",
    "        # Apply the second graph conv layer.\n",
    "        #x2 = self.conv2((x, self.edges, self.edge_weights))\n",
    "        # Skip connection.\n",
    "        #x = x2 + x\n",
    "        # Postprocess node embedding.\n",
    "        x = self.postprocess(x)\n",
    "        # Fetch node embeddings for the input node_indices.\n",
    "        node_embeddings = tf.gather(x, input_node_indices)\n",
    "        # Compute logits\n",
    "        return self.compute_logits(node_embeddings)\n"
   ]
  },
  {
   "cell_type": "markdown",
   "id": "89112789",
   "metadata": {},
   "source": [
    "## Initialize the GNN Model"
   ]
  },
  {
   "cell_type": "markdown",
   "id": "b414cddc",
   "metadata": {},
   "source": [
    "*Define model parameters, initialize GNNNodeClassifier object, and test the model by passing a list of node indicies, [1, 10, 100], to get the output score of the model. Notice the model is untrained, so these values are insignificant.*"
   ]
  },
  {
   "cell_type": "code",
   "execution_count": 11,
   "id": "11b8f57f",
   "metadata": {},
   "outputs": [
    {
     "name": "stdout",
     "output_type": "stream",
     "text": [
      "GNN output shape: tf.Tensor(\n",
      "[[0.50398743]\n",
      " [0.4980308 ]\n",
      " [0.50499624]], shape=(3, 1), dtype=float32)\n",
      "Model: \"gnn_model\"\n",
      "_________________________________________________________________\n",
      " Layer (type)                Output Shape              Param #   \n",
      "=================================================================\n",
      " preprocess (Sequential)     (46300, 16)               2524      \n",
      "                                                                 \n",
      " graph_conv1 (GraphConvLaye  multiple                  5888      \n",
      " r)                                                              \n",
      "                                                                 \n",
      " postprocess (Sequential)    (46300, 16)               2784      \n",
      "                                                                 \n",
      " logits (Dense)              multiple                  17        \n",
      "                                                                 \n",
      "=================================================================\n",
      "Total params: 11213 (43.80 KB)\n",
      "Trainable params: 10439 (40.78 KB)\n",
      "Non-trainable params: 774 (3.02 KB)\n",
      "_________________________________________________________________\n"
     ]
    }
   ],
   "source": [
    "hidden_units = [16, 32, 32, 16]\n",
    "learning_rate = 0.001\n",
    "dropout_rate = 0.25\n",
    "num_epochs = 100\n",
    "batch_size = 256\n",
    "num_classes = 1     # Binary Classification [0,1]\n",
    "\n",
    "gnn_model = GNNNodeClassifier(\n",
    "    graph_info=graph_info,\n",
    "    num_classes=num_classes,\n",
    "    hidden_units=hidden_units,\n",
    "    dropout_rate=dropout_rate,\n",
    "    name=\"gnn_model\",\n",
    ")\n",
    "\n",
    "print(\"GNN output shape:\", gnn_model([1, 10, 100]))\n",
    "\n",
    "gnn_model.summary()\n"
   ]
  },
  {
   "cell_type": "markdown",
   "id": "4660eef5",
   "metadata": {},
   "source": [
    "## Define the Training Loop"
   ]
  },
  {
   "cell_type": "markdown",
   "id": "38b2308f",
   "metadata": {},
   "source": [
    "*Compile the model with the optimizer, loss function, and training metric. Implement early stoppting to prevent overtraining. Finally, train the model using model.fit().*"
   ]
  },
  {
   "cell_type": "code",
   "execution_count": 12,
   "id": "1a75f8d4",
   "metadata": {},
   "outputs": [],
   "source": [
    "def run_experiment(model, x_train, y_train):\n",
    "    # Compile the model.\n",
    "    model.compile(\n",
    "        optimizer=keras.optimizers.Adam(learning_rate),\n",
    "        loss=keras.losses.BinaryCrossentropy(from_logits=False),\n",
    "        metrics=[keras.metrics.BinaryAccuracy(name=\"acc\")],\n",
    "    )\n",
    "    # Create an early stopping callback.\n",
    "    early_stopping = keras.callbacks.EarlyStopping(\n",
    "        monitor=\"val_acc\", patience=10, restore_best_weights=True\n",
    "    )\n",
    "    # Fit the model.\n",
    "    history = model.fit(\n",
    "        x=x_train,\n",
    "        y=y_train,\n",
    "        epochs=num_epochs,\n",
    "        batch_size=batch_size,\n",
    "        validation_split=0.15,\n",
    "        callbacks=[early_stopping],\n",
    "        shuffle=True,\n",
    "        use_multiprocessing=True,\n",
    "    )\n",
    "\n",
    "    return history"
   ]
  },
  {
   "cell_type": "code",
   "execution_count": 13,
   "id": "10141e3d",
   "metadata": {},
   "outputs": [
    {
     "name": "stdout",
     "output_type": "stream",
     "text": [
      "Epoch 1/100\n"
     ]
    },
    {
     "name": "stderr",
     "output_type": "stream",
     "text": [
      "2023-10-26 12:32:07.221018: I tensorflow/compiler/xla/service/service.cc:168] XLA service 0x7f1c0013e570 initialized for platform CUDA (this does not guarantee that XLA will be used). Devices:\n",
      "2023-10-26 12:32:07.221043: I tensorflow/compiler/xla/service/service.cc:176]   StreamExecutor device (0): NVIDIA GeForce RTX 3090, Compute Capability 8.6\n",
      "2023-10-26 12:32:07.223573: I tensorflow/compiler/mlir/tensorflow/utils/dump_mlir_util.cc:269] disabling MLIR crash reproducer, set env var `MLIR_CRASH_REPRODUCER_DIRECTORY` to enable.\n",
      "2023-10-26 12:32:07.231450: I tensorflow/compiler/xla/stream_executor/cuda/cuda_dnn.cc:442] Loaded cuDNN version 8700\n",
      "2023-10-26 12:32:07.276363: I ./tensorflow/compiler/jit/device_compiler.h:186] Compiled cluster using XLA!  This line is logged at most once for the lifetime of the process.\n"
     ]
    },
    {
     "name": "stdout",
     "output_type": "stream",
     "text": [
      "123/123 [==============================] - 7s 15ms/step - loss: 0.4348 - acc: 0.8305 - val_loss: 0.2999 - val_acc: 0.9100\n",
      "Epoch 2/100\n",
      "123/123 [==============================] - 2s 12ms/step - loss: 0.2750 - acc: 0.9015 - val_loss: 0.2632 - val_acc: 0.9100\n",
      "Epoch 3/100\n",
      "123/123 [==============================] - 2s 12ms/step - loss: 0.2532 - acc: 0.9026 - val_loss: 0.2043 - val_acc: 0.9100\n",
      "Epoch 4/100\n",
      "123/123 [==============================] - 2s 12ms/step - loss: 0.2380 - acc: 0.9067 - val_loss: 0.1921 - val_acc: 0.9100\n",
      "Epoch 5/100\n",
      "123/123 [==============================] - 2s 13ms/step - loss: 0.2280 - acc: 0.9083 - val_loss: 0.1908 - val_acc: 0.9100\n",
      "Epoch 6/100\n",
      "123/123 [==============================] - 2s 13ms/step - loss: 0.2234 - acc: 0.9093 - val_loss: 0.1902 - val_acc: 0.9100\n",
      "Epoch 7/100\n",
      "123/123 [==============================] - 2s 13ms/step - loss: 0.2210 - acc: 0.9106 - val_loss: 0.1870 - val_acc: 0.9127\n",
      "Epoch 8/100\n",
      "123/123 [==============================] - 2s 12ms/step - loss: 0.2139 - acc: 0.9103 - val_loss: 0.1835 - val_acc: 0.9145\n",
      "Epoch 9/100\n",
      "123/123 [==============================] - 2s 12ms/step - loss: 0.2110 - acc: 0.9120 - val_loss: 0.1798 - val_acc: 0.9177\n",
      "Epoch 10/100\n",
      "123/123 [==============================] - 2s 13ms/step - loss: 0.2107 - acc: 0.9124 - val_loss: 0.1781 - val_acc: 0.9195\n",
      "Epoch 11/100\n",
      "123/123 [==============================] - 2s 13ms/step - loss: 0.2073 - acc: 0.9139 - val_loss: 0.1831 - val_acc: 0.9150\n",
      "Epoch 12/100\n",
      "123/123 [==============================] - 2s 13ms/step - loss: 0.2031 - acc: 0.9142 - val_loss: 0.1767 - val_acc: 0.9213\n",
      "Epoch 13/100\n",
      "123/123 [==============================] - 2s 12ms/step - loss: 0.2022 - acc: 0.9147 - val_loss: 0.1757 - val_acc: 0.9213\n",
      "Epoch 14/100\n",
      "123/123 [==============================] - 2s 13ms/step - loss: 0.1939 - acc: 0.9152 - val_loss: 0.1725 - val_acc: 0.9213\n",
      "Epoch 15/100\n",
      "123/123 [==============================] - 2s 12ms/step - loss: 0.1821 - acc: 0.9151 - val_loss: 0.1218 - val_acc: 0.9289\n",
      "Epoch 16/100\n",
      "123/123 [==============================] - 2s 13ms/step - loss: 0.1311 - acc: 0.9415 - val_loss: 0.0428 - val_acc: 0.9915\n",
      "Epoch 17/100\n",
      "123/123 [==============================] - 2s 12ms/step - loss: 0.0749 - acc: 0.9747 - val_loss: 0.0306 - val_acc: 0.9926\n",
      "Epoch 18/100\n",
      "123/123 [==============================] - 2s 13ms/step - loss: 0.0575 - acc: 0.9816 - val_loss: 0.0150 - val_acc: 0.9959\n",
      "Epoch 19/100\n",
      "123/123 [==============================] - 2s 13ms/step - loss: 0.0484 - acc: 0.9851 - val_loss: 0.0131 - val_acc: 0.9957\n",
      "Epoch 20/100\n",
      "123/123 [==============================] - 2s 12ms/step - loss: 0.0417 - acc: 0.9885 - val_loss: 0.0097 - val_acc: 0.9957\n",
      "Epoch 21/100\n",
      "123/123 [==============================] - 2s 12ms/step - loss: 0.0395 - acc: 0.9885 - val_loss: 0.0105 - val_acc: 0.9960\n",
      "Epoch 22/100\n",
      "123/123 [==============================] - 2s 13ms/step - loss: 0.0356 - acc: 0.9898 - val_loss: 0.0105 - val_acc: 0.9962\n",
      "Epoch 23/100\n",
      "123/123 [==============================] - 2s 12ms/step - loss: 0.0368 - acc: 0.9894 - val_loss: 0.0140 - val_acc: 0.9955\n",
      "Epoch 24/100\n",
      "123/123 [==============================] - 2s 12ms/step - loss: 0.0344 - acc: 0.9902 - val_loss: 0.0075 - val_acc: 0.9980\n",
      "Epoch 25/100\n",
      "123/123 [==============================] - 2s 13ms/step - loss: 0.0308 - acc: 0.9911 - val_loss: 0.0096 - val_acc: 0.9964\n",
      "Epoch 26/100\n",
      "123/123 [==============================] - 2s 12ms/step - loss: 0.0323 - acc: 0.9909 - val_loss: 0.0096 - val_acc: 0.9962\n",
      "Epoch 27/100\n",
      "123/123 [==============================] - 2s 12ms/step - loss: 0.0308 - acc: 0.9916 - val_loss: 0.0057 - val_acc: 0.9986\n",
      "Epoch 28/100\n",
      "123/123 [==============================] - 2s 13ms/step - loss: 0.0331 - acc: 0.9902 - val_loss: 0.0052 - val_acc: 0.9991\n",
      "Epoch 29/100\n",
      "123/123 [==============================] - 2s 13ms/step - loss: 0.0298 - acc: 0.9912 - val_loss: 0.0084 - val_acc: 0.9962\n",
      "Epoch 30/100\n",
      "123/123 [==============================] - 2s 13ms/step - loss: 0.0315 - acc: 0.9909 - val_loss: 0.0070 - val_acc: 0.9973\n",
      "Epoch 31/100\n",
      "123/123 [==============================] - 2s 13ms/step - loss: 0.0293 - acc: 0.9919 - val_loss: 0.0064 - val_acc: 0.9978\n",
      "Epoch 32/100\n",
      "123/123 [==============================] - 2s 12ms/step - loss: 0.0266 - acc: 0.9926 - val_loss: 0.0052 - val_acc: 0.9986\n",
      "Epoch 33/100\n",
      "123/123 [==============================] - 2s 13ms/step - loss: 0.0281 - acc: 0.9924 - val_loss: 0.0077 - val_acc: 0.9971\n",
      "Epoch 34/100\n",
      "123/123 [==============================] - 2s 12ms/step - loss: 0.0281 - acc: 0.9919 - val_loss: 0.0080 - val_acc: 0.9977\n",
      "Epoch 35/100\n",
      "123/123 [==============================] - 2s 12ms/step - loss: 0.0276 - acc: 0.9924 - val_loss: 0.0084 - val_acc: 0.9962\n",
      "Epoch 36/100\n",
      "123/123 [==============================] - 2s 12ms/step - loss: 0.0283 - acc: 0.9921 - val_loss: 0.0074 - val_acc: 0.9968\n",
      "Epoch 37/100\n",
      "123/123 [==============================] - 2s 12ms/step - loss: 0.0280 - acc: 0.9923 - val_loss: 0.0050 - val_acc: 0.9993\n",
      "Epoch 38/100\n",
      "123/123 [==============================] - 2s 13ms/step - loss: 0.0270 - acc: 0.9923 - val_loss: 0.0055 - val_acc: 0.9984\n",
      "Epoch 39/100\n",
      "123/123 [==============================] - 2s 12ms/step - loss: 0.0253 - acc: 0.9927 - val_loss: 0.0088 - val_acc: 0.9955\n",
      "Epoch 40/100\n",
      "123/123 [==============================] - 2s 13ms/step - loss: 0.0271 - acc: 0.9926 - val_loss: 0.0057 - val_acc: 0.9980\n",
      "Epoch 41/100\n",
      "123/123 [==============================] - 2s 13ms/step - loss: 0.0274 - acc: 0.9922 - val_loss: 0.0072 - val_acc: 0.9977\n",
      "Epoch 42/100\n",
      "123/123 [==============================] - 2s 13ms/step - loss: 0.0247 - acc: 0.9930 - val_loss: 0.0053 - val_acc: 0.9984\n",
      "Epoch 43/100\n",
      "123/123 [==============================] - 2s 13ms/step - loss: 0.0288 - acc: 0.9917 - val_loss: 0.0082 - val_acc: 0.9955\n",
      "Epoch 44/100\n",
      "123/123 [==============================] - 2s 13ms/step - loss: 0.0273 - acc: 0.9923 - val_loss: 0.0073 - val_acc: 0.9973\n",
      "Epoch 45/100\n",
      "123/123 [==============================] - 2s 13ms/step - loss: 0.0250 - acc: 0.9928 - val_loss: 0.0040 - val_acc: 0.9993\n",
      "Epoch 46/100\n",
      "123/123 [==============================] - 2s 12ms/step - loss: 0.0246 - acc: 0.9925 - val_loss: 0.0052 - val_acc: 0.9987\n",
      "Epoch 47/100\n",
      "123/123 [==============================] - 2s 13ms/step - loss: 0.0276 - acc: 0.9920 - val_loss: 0.0077 - val_acc: 0.9955\n"
     ]
    }
   ],
   "source": [
    "history = run_experiment(gnn_model, x_train, y_train)"
   ]
  },
  {
   "cell_type": "code",
   "execution_count": 14,
   "id": "d4a86a7a",
   "metadata": {},
   "outputs": [
    {
     "name": "stdout",
     "output_type": "stream",
     "text": [
      "Epoch 1/100\n",
      "123/123 [==============================] - 7s 11ms/step - loss: 0.4053 - acc: 0.8955 - val_loss: 0.2888 - val_acc: 0.9100\n",
      "Epoch 2/100\n",
      "123/123 [==============================] - 1s 9ms/step - loss: 0.3023 - acc: 0.8978 - val_loss: 0.2657 - val_acc: 0.9107\n",
      "Epoch 3/100\n",
      "123/123 [==============================] - 1s 9ms/step - loss: 0.2754 - acc: 0.9001 - val_loss: 0.2222 - val_acc: 0.9156\n",
      "Epoch 4/100\n",
      "123/123 [==============================] - 1s 9ms/step - loss: 0.2559 - acc: 0.9037 - val_loss: 0.1986 - val_acc: 0.9206\n",
      "Epoch 5/100\n",
      "123/123 [==============================] - 1s 8ms/step - loss: 0.2396 - acc: 0.9069 - val_loss: 0.1871 - val_acc: 0.9206\n",
      "Epoch 6/100\n",
      "123/123 [==============================] - 1s 8ms/step - loss: 0.2324 - acc: 0.9073 - val_loss: 0.1792 - val_acc: 0.9244\n",
      "Epoch 7/100\n",
      "123/123 [==============================] - 1s 9ms/step - loss: 0.2244 - acc: 0.9092 - val_loss: 0.1770 - val_acc: 0.9248\n",
      "Epoch 8/100\n",
      "123/123 [==============================] - 1s 9ms/step - loss: 0.2180 - acc: 0.9107 - val_loss: 0.1732 - val_acc: 0.9242\n",
      "Epoch 9/100\n",
      "123/123 [==============================] - 1s 8ms/step - loss: 0.2130 - acc: 0.9113 - val_loss: 0.1719 - val_acc: 0.9258\n",
      "Epoch 10/100\n",
      "123/123 [==============================] - 1s 9ms/step - loss: 0.2136 - acc: 0.9121 - val_loss: 0.1699 - val_acc: 0.9237\n",
      "Epoch 11/100\n",
      "123/123 [==============================] - 1s 9ms/step - loss: 0.2085 - acc: 0.9143 - val_loss: 0.1674 - val_acc: 0.9260\n",
      "Epoch 12/100\n",
      "123/123 [==============================] - 1s 9ms/step - loss: 0.2065 - acc: 0.9141 - val_loss: 0.1670 - val_acc: 0.9255\n",
      "Epoch 13/100\n",
      "123/123 [==============================] - 1s 9ms/step - loss: 0.2059 - acc: 0.9136 - val_loss: 0.1669 - val_acc: 0.9260\n",
      "Epoch 14/100\n",
      "123/123 [==============================] - 1s 8ms/step - loss: 0.2046 - acc: 0.9151 - val_loss: 0.1671 - val_acc: 0.9253\n",
      "Epoch 15/100\n",
      "123/123 [==============================] - 1s 9ms/step - loss: 0.2016 - acc: 0.9142 - val_loss: 0.1651 - val_acc: 0.9276\n",
      "Epoch 16/100\n",
      "123/123 [==============================] - 1s 9ms/step - loss: 0.2035 - acc: 0.9150 - val_loss: 0.1652 - val_acc: 0.9267\n",
      "Epoch 17/100\n",
      "123/123 [==============================] - 1s 8ms/step - loss: 0.2006 - acc: 0.9147 - val_loss: 0.1664 - val_acc: 0.9276\n",
      "Epoch 18/100\n",
      "123/123 [==============================] - 1s 9ms/step - loss: 0.1980 - acc: 0.9162 - val_loss: 0.1651 - val_acc: 0.9282\n",
      "Epoch 19/100\n",
      "123/123 [==============================] - 1s 9ms/step - loss: 0.1970 - acc: 0.9157 - val_loss: 0.1651 - val_acc: 0.9266\n",
      "Epoch 20/100\n",
      "123/123 [==============================] - 1s 9ms/step - loss: 0.1961 - acc: 0.9180 - val_loss: 0.1656 - val_acc: 0.9262\n",
      "Epoch 21/100\n",
      "123/123 [==============================] - 1s 9ms/step - loss: 0.1966 - acc: 0.9165 - val_loss: 0.1671 - val_acc: 0.9251\n",
      "Epoch 22/100\n",
      "123/123 [==============================] - 1s 9ms/step - loss: 0.1967 - acc: 0.9168 - val_loss: 0.1648 - val_acc: 0.9269\n",
      "Epoch 23/100\n",
      "123/123 [==============================] - 1s 10ms/step - loss: 0.1966 - acc: 0.9165 - val_loss: 0.1644 - val_acc: 0.9271\n",
      "Epoch 24/100\n",
      "123/123 [==============================] - 1s 10ms/step - loss: 0.1942 - acc: 0.9175 - val_loss: 0.1643 - val_acc: 0.9266\n",
      "Epoch 25/100\n",
      "123/123 [==============================] - 1s 10ms/step - loss: 0.1946 - acc: 0.9167 - val_loss: 0.1641 - val_acc: 0.9285\n",
      "Epoch 26/100\n",
      "123/123 [==============================] - 1s 9ms/step - loss: 0.1939 - acc: 0.9183 - val_loss: 0.1655 - val_acc: 0.9255\n",
      "Epoch 27/100\n",
      "123/123 [==============================] - 1s 9ms/step - loss: 0.1938 - acc: 0.9176 - val_loss: 0.1647 - val_acc: 0.9260\n",
      "Epoch 28/100\n",
      "123/123 [==============================] - 1s 8ms/step - loss: 0.1954 - acc: 0.9170 - val_loss: 0.1642 - val_acc: 0.9269\n",
      "Epoch 29/100\n",
      "123/123 [==============================] - 1s 9ms/step - loss: 0.1917 - acc: 0.9176 - val_loss: 0.1645 - val_acc: 0.9275\n",
      "Epoch 30/100\n",
      "123/123 [==============================] - 1s 8ms/step - loss: 0.1916 - acc: 0.9181 - val_loss: 0.1635 - val_acc: 0.9282\n",
      "Epoch 31/100\n",
      "123/123 [==============================] - 1s 8ms/step - loss: 0.1905 - acc: 0.9180 - val_loss: 0.1631 - val_acc: 0.9278\n",
      "Epoch 32/100\n",
      "123/123 [==============================] - 1s 9ms/step - loss: 0.1912 - acc: 0.9182 - val_loss: 0.1654 - val_acc: 0.9253\n",
      "Epoch 33/100\n",
      "123/123 [==============================] - 1s 9ms/step - loss: 0.1917 - acc: 0.9179 - val_loss: 0.1655 - val_acc: 0.9258\n",
      "Epoch 34/100\n",
      "123/123 [==============================] - 1s 10ms/step - loss: 0.1926 - acc: 0.9183 - val_loss: 0.1659 - val_acc: 0.9264\n",
      "Epoch 35/100\n",
      "123/123 [==============================] - 1s 9ms/step - loss: 0.1925 - acc: 0.9176 - val_loss: 0.1678 - val_acc: 0.9253\n"
     ]
    }
   ],
   "source": [
    "history_simple_NN = run_experiment(baseline_model, x_train_simple, y_train_simple)"
   ]
  },
  {
   "cell_type": "markdown",
   "id": "2f7acaee",
   "metadata": {},
   "source": [
    "## Display Learning Curves"
   ]
  },
  {
   "cell_type": "code",
   "execution_count": 15,
   "id": "af15df3b",
   "metadata": {},
   "outputs": [],
   "source": [
    "def display_learning_curves(history):\n",
    "    fig, (ax1, ax2) = plt.subplots(1, 2, figsize=(15, 5))\n",
    "\n",
    "    ax1.plot(history.history[\"loss\"])\n",
    "    ax1.plot(history.history[\"val_loss\"])\n",
    "    ax1.legend([\"train\", \"validation\"], loc=\"upper right\")\n",
    "    ax1.set_xlabel(\"Epochs\")\n",
    "    ax1.set_ylabel(\"Loss\")\n",
    "\n",
    "    ax2.plot(history.history[\"acc\"])\n",
    "    ax2.plot(history.history[\"val_acc\"])\n",
    "    ax2.legend([\"train\", \"validation\"], loc=\"upper right\")\n",
    "    ax2.set_xlabel(\"Epochs\")\n",
    "    ax2.set_ylabel(\"Accuracy\")\n",
    "    plt.show()\n"
   ]
  },
  {
   "cell_type": "code",
   "execution_count": 16,
   "id": "f477fb85",
   "metadata": {},
   "outputs": [
    {
     "data": {
      "image/png": "[encoded data removed]",
      "text/plain": [
       "<Figure size 1080x360 with 2 Axes>"
      ]
     },
     "metadata": {
      "needs_background": "light"
     },
     "output_type": "display_data"
    }
   ],
   "source": [
    "display_learning_curves(history)"
   ]
  },
  {
   "cell_type": "code",
   "execution_count": 17,
   "id": "5e782c20",
   "metadata": {},
   "outputs": [
    {
     "data": {
      "image/png": "[encoded data removed]",
      "text/plain": [
       "<Figure size 1080x360 with 2 Axes>"
      ]
     },
     "metadata": {
      "needs_background": "light"
     },
     "output_type": "display_data"
    }
   ],
   "source": [
    "display_learning_curves(history_simple_NN)"
   ]
  },
  {
   "cell_type": "markdown",
   "id": "6f8a69cf",
   "metadata": {},
   "source": [
    "## Calulate ROC Curves, AUC and F1 score"
   ]
  },
  {
   "cell_type": "markdown",
   "id": "b346103a",
   "metadata": {},
   "source": [
    "*ROC Curves show TPR vs FPS. AUC is the area under the ROC curve (higher is better). $F1 = \\frac{2 * precision * recall}{precision + recall} = \\frac{2*tpr}{2*tpr+fpr*fnr}$ (higher is better). To calculate ROC Curves, x_test is used, which a fraction of the dataset that the model has not seen before.*"
   ]
  },
  {
   "cell_type": "code",
   "execution_count": 18,
   "id": "3049fb12",
   "metadata": {},
   "outputs": [
    {
     "name": "stdout",
     "output_type": "stream",
     "text": [
      "290/290 [==============================] - 1s 2ms/step\n",
      "290/290 [==============================] - 1s 1ms/step\n"
     ]
    }
   ],
   "source": [
    "from sklearn.metrics import roc_curve\n",
    "from sklearn.metrics import auc\n",
    "from sklearn.metrics import f1_score\n",
    "\n",
    "y_pred = gnn_model.predict(x_test).ravel()\n",
    "y_true = y_test\n",
    "\n",
    "y_pred_simple = baseline_model.predict(x_test_simple).ravel()\n",
    "y_true_simple = y_test_simple"
   ]
  },
  {
   "cell_type": "code",
   "execution_count": 19,
   "id": "37370473",
   "metadata": {},
   "outputs": [
    {
     "data": {
      "image/png": "[encoded data removed]",
      "text/plain": [
       "<Figure size 432x288 with 1 Axes>"
      ]
     },
     "metadata": {
      "needs_background": "light"
     },
     "output_type": "display_data"
    }
   ],
   "source": [
    "fpr_keras, tpr_keras, thresholds_keras = roc_curve(y_true, y_pred)\n",
    "AUC = auc(fpr_keras, tpr_keras)\n",
    "plt.plot(fpr_keras, tpr_keras)\n",
    "plt.title(\"roc curve GNN\")\n",
    "plt.text(0.75,0.1,\"AUC:\"+str(round(AUC,6)))\n",
    "plt.show()"
   ]
  },
  {
   "cell_type": "code",
   "execution_count": 20,
   "id": "57f0f9d8",
   "metadata": {},
   "outputs": [
    {
     "data": {
      "image/png": "[encoded data removed]",
      "text/plain": [
       "<Figure size 432x288 with 1 Axes>"
      ]
     },
     "metadata": {
      "needs_background": "light"
     },
     "output_type": "display_data"
    }
   ],
   "source": [
    "fpr_keras, tpr_keras, thresholds_keras = roc_curve(y_true_simple, y_pred_simple)\n",
    "AUC = auc(fpr_keras, tpr_keras)\n",
    "plt.plot(fpr_keras, tpr_keras)\n",
    "plt.title(\"roc curve Simple NN\")\n",
    "plt.text(0.75,0.1,\"AUC:\"+str(round(AUC,6)))\n",
    "plt.show()"
   ]
  },
  {
   "cell_type": "code",
   "execution_count": 21,
   "id": "a1faa4e5",
   "metadata": {},
   "outputs": [
    {
     "name": "stdout",
     "output_type": "stream",
     "text": [
      "F1 Score:  0.9781491002570695\n"
     ]
    }
   ],
   "source": [
    "threshhold = 0.5\n",
    "\n",
    "y_pred_threshold = np.copy(y_pred)\n",
    "y_pred_threshold[y_pred_threshold >= threshhold] = 1\n",
    "y_pred_threshold[y_pred_threshold < threshhold] = 0\n",
    "\n",
    "#print(y_pred_threshold[0:100])\n",
    "#print(np.mean(y_pred_threshold))\n",
    "\n",
    "F1 = f1_score(y_true, y_pred_threshold)\n",
    "print(\"F1 Score: \", F1)"
   ]
  },
  {
   "cell_type": "code",
   "execution_count": 22,
   "id": "6d624b9d",
   "metadata": {},
   "outputs": [
    {
     "data": {
      "text/plain": [
       "'2.14.1'"
      ]
     },
     "execution_count": 22,
     "metadata": {},
     "output_type": "execute_result"
    }
   ],
   "source": [
    "%load_ext tensorboard\n",
    "import tensorboard\n",
    "tensorboard.__version__"
   ]
  },
  {
   "cell_type": "code",
   "execution_count": 23,
   "id": "dd22444b",
   "metadata": {},
   "outputs": [
    {
     "data": {
      "text/plain": [
       "ERROR: Failed to launch TensorBoard (exited with 1).\n",
       "Contents of stderr:\n",
       "2023-10-26 12:34:09.123611: I tensorflow/core/util/port.cc:111] oneDNN custom operations are on. You may see slightly different numerical results due to floating-point round-off errors from different computation orders. To turn them off, set the environment variable `TF_ENABLE_ONEDNN_OPTS=0`.\n",
       "2023-10-26 12:34:09.143995: E tensorflow/compiler/xla/stream_executor/cuda/cuda_dnn.cc:9342] Unable to register cuDNN factory: Attempting to register factory for plugin cuDNN when one has already been registered\n",
       "2023-10-26 12:34:09.144038: E tensorflow/compiler/xla/stream_executor/cuda/cuda_fft.cc:609] Unable to register cuFFT factory: Attempting to register factory for plugin cuFFT when one has already been registered\n",
       "2023-10-26 12:34:09.144055: E tensorflow/compiler/xla/stream_executor/cuda/cuda_blas.cc:1518] Unable to register cuBLAS factory: Attempting to register factory for plugin cuBLAS when one has already been registered\n",
       "2023-10-26 12:34:09.147915: I tensorflow/core/platform/cpu_feature_guard.cc:182] This TensorFlow binary is optimized to use available CPU instructions in performance-critical operations.\n",
       "To enable the following instructions: AVX2 AVX_VNNI FMA, in other operations, rebuild TensorFlow with the appropriate compiler flags.\n",
       "/usr/lib/python3/dist-packages/scipy/__init__.py:146: UserWarning: A NumPy version >=1.17.3 and <1.25.0 is required for this version of SciPy (detected version 1.26.1\n",
       "  warnings.warn(f\"A NumPy version >={np_minversion} and <{np_maxversion}\"\n",
       "Error: A logdir or db must be specified. For example `tensorboard --logdir mylogdir` or `tensorboard --db sqlite:~/.tensorboard.db`. Run `tensorboard --helpfull` for details and examples."
      ]
     },
     "metadata": {},
     "output_type": "display_data"
    }
   ],
   "source": [
    "%tensorboard"
   ]
  }
 ],
 "metadata": {
  "kernelspec": {
   "display_name": "Python 3 (ipykernel)",
   "language": "python",
   "name": "python3"
  },
  "language_info": {
   "codemirror_mode": {
    "name": "ipython",
    "version": 3
   },
   "file_extension": ".py",
   "mimetype": "text/x-python",
   "name": "python",
   "nbconvert_exporter": "python",
   "pygments_lexer": "ipython3",
   "version": "3.10.12"
  }
 },
 "nbformat": 4,
 "nbformat_minor": 5
}
