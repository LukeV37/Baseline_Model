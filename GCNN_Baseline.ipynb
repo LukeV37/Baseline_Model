{
 "cells": [
  {
   "cell_type": "code",
   "execution_count": 1,
   "id": "04f0d6c9",
   "metadata": {},
   "outputs": [],
   "source": [
    "import numpy as np\n",
    "import matplotlib.pyplot as plt\n",
    "import tensorflow as tf\n",
    "from tensorflow import keras\n",
    "from tensorflow.keras import layers\n",
    "from tensorflow.keras import metrics"
   ]
  },
  {
   "cell_type": "markdown",
   "id": "3a4d79c0",
   "metadata": {},
   "source": [
    "## Load Data from Text File and Reshape"
   ]
  },
  {
   "cell_type": "code",
   "execution_count": 2,
   "id": "238e1f47",
   "metadata": {},
   "outputs": [
    {
     "name": "stdout",
     "output_type": "stream",
     "text": [
      "(463, 100, 4)\n"
     ]
    }
   ],
   "source": [
    "ttbar_dataset = np.loadtxt(\"out_ttbar.txt\")\n",
    "\n",
    "jets_per_event = 100\n",
    "#max_events = 463\n",
    "#ttbar_dataset = np.loadtxt(\"out_ttbar.txt\", max_rows=max_events*jets_per_event)\n",
    "\n",
    "ttbar_len = ttbar_dataset.shape[0]\n",
    "ttbar_feat = ttbar_dataset.shape[1]\n",
    "\n",
    "ttbar_events = int(ttbar_len / jets_per_event)\n",
    "\n",
    "ttbar_dataset = ttbar_dataset.reshape((ttbar_events,jets_per_event,ttbar_feat))\n",
    "print(ttbar_dataset.shape)\n",
    "#print(ttbar_dataset)"
   ]
  },
  {
   "cell_type": "markdown",
   "id": "5e6b3e50",
   "metadata": {},
   "source": [
    "## Calculate Edges Based on Truth Information"
   ]
  },
  {
   "cell_type": "markdown",
   "id": "22cad8e4",
   "metadata": {},
   "source": [
    "*Generating Edges on Truth Information is NOT good practice and should be replaced with a physics inspired algorithm with possible attention mechanism later on. Using truth information is to show proof of concept only!*"
   ]
  },
  {
   "cell_type": "code",
   "execution_count": 3,
   "id": "37a3e70a",
   "metadata": {},
   "outputs": [
    {
     "name": "stdout",
     "output_type": "stream",
     "text": [
      "463  /  463\r"
     ]
    }
   ],
   "source": [
    "# Create an edges array (sparse adjacency matrix) of shape [2, num_edges].\n",
    "edges = arr = np.empty((0,2), int)\n",
    "labels = np.zeros((ttbar_events,jets_per_event))\n",
    "\n",
    "for event_idx in range(ttbar_events):\n",
    "    if (event_idx%1) == 0: \n",
    "        print(event_idx+1, \" / \", ttbar_events, end=\"\\r\")\n",
    "    for jet1_idx in range(jets_per_event):\n",
    "        \n",
    "        # Define proper binary classification labels\n",
    "        # Truth label of -1 corresponds to hard scattering vertex\n",
    "        # Truth lavel of anything else corresponds to pileup vertex\n",
    "        if ttbar_dataset[event_idx,jet1_idx,-1] == -1:\n",
    "            labels[event_idx,jet1_idx] = 1\n",
    "        \n",
    "        for jet2_idx in range(jet1_idx+1, jets_per_event):           \n",
    "            # ttbar_dataset[i,j,-1] corresponds to truth label\n",
    "            if ((ttbar_dataset[event_idx,jet1_idx,-1] == ttbar_dataset[event_idx,jet2_idx,-1]) and (ttbar_dataset[event_idx,jet1_idx,-1] != 0)):\n",
    "                jet1_unique_ID = event_idx*jets_per_event + jet1_idx\n",
    "                jet2_unique_ID = event_idx*jets_per_event + jet2_idx\n",
    "                edges = np.vstack((edges, [jet1_unique_ID, jet2_unique_ID]))    \n",
    "                edges = np.vstack((edges, [jet2_unique_ID, jet1_unique_ID]))\n",
    "                \n",
    "# Examine output\n",
    "#print(labels[0])\n",
    "#print(labels.shape)\n",
    "#print(edges[0:5])\n",
    "#print(edges.shape)"
   ]
  },
  {
   "cell_type": "markdown",
   "id": "78614fa2",
   "metadata": {},
   "source": [
    "## Split Dataset into Test and Train"
   ]
  },
  {
   "cell_type": "markdown",
   "id": "47d7e2a8",
   "metadata": {},
   "source": [
    "*The only information passed to the GNN Model is the unique index of the jet. This makes splitting test and train dataset easy.*"
   ]
  },
  {
   "cell_type": "code",
   "execution_count": 4,
   "id": "1867fb08",
   "metadata": {},
   "outputs": [
    {
     "name": "stdout",
     "output_type": "stream",
     "text": [
      "0.09008639308855292\n"
     ]
    }
   ],
   "source": [
    "split = 0.8\n",
    "\n",
    "idx = np.arange(ttbar_len)\n",
    "\n",
    "split_idx = int(ttbar_len * split)\n",
    "\n",
    "train_n = int(ttbar_len * split)\n",
    "labels = labels.flatten()\n",
    "\n",
    "print(np.mean(labels))\n",
    "\n",
    "#x_train = idx[0:train_n]\n",
    "#y_train = labels[:train_n]\n",
    "\n",
    "x_train = idx[0:train_n]\n",
    "y_train = labels[0:train_n]\n",
    "x_test = idx[train_n:-1]\n",
    "y_test = labels[train_n:-1]"
   ]
  },
  {
   "cell_type": "markdown",
   "id": "af1d96a0",
   "metadata": {},
   "source": [
    "## Constuct Graph Info "
   ]
  },
  {
   "cell_type": "markdown",
   "id": "babd4dc1",
   "metadata": {},
   "source": [
    "*Node Features, Edges, and Edge Weights*"
   ]
  },
  {
   "cell_type": "code",
   "execution_count": 5,
   "id": "69531a31",
   "metadata": {},
   "outputs": [
    {
     "name": "stdout",
     "output_type": "stream",
     "text": [
      "Edges shape: (2, 50382)\n",
      "Nodes shape: (46300, 3)\n"
     ]
    }
   ],
   "source": [
    "#Construct graph info\n",
    "\n",
    "# Create an edges array (sparse adjacency matrix) of shape [2, num_edges].\n",
    "edges = edges.T\n",
    "\n",
    "# Create an edge weights array of ones.\n",
    "edge_weights = tf.ones(shape=edges.shape[1])\n",
    "\n",
    "# Create a node features array of shape [num_nodes, num_features].\n",
    "node_features = ttbar_dataset.reshape(ttbar_len, ttbar_feat)\n",
    "node_features = tf.cast(node_features[:,0:3], dtype=tf.dtypes.float32)\n",
    "\n",
    "#node_features_train = node_features[0:train_n,:]\n",
    "#node_features_train = tf.cast(node_features_train[:,0:3], dtype=tf.dtypes.float32)\n",
    "\n",
    "#node_features_test = node_features[train_n:-1,:]\n",
    "#node_features_test = tf.cast(node_features_test[:,0:3], dtype=tf.dtypes.float32)\n",
    "\n",
    "# Create graph info tuple with node_features, edges, and edge_weights.\n",
    "graph_info = (node_features, edges, edge_weights)\n",
    "#graph_info_train = (node_features_train, edges, edge_weights)\n",
    "#graph_info_test = (node_features_test, edges, edge_weights)\n",
    "\n",
    "print(\"Edges shape:\", edges.shape)\n",
    "print(\"Nodes shape:\", node_features.shape)"
   ]
  },
  {
   "cell_type": "markdown",
   "id": "3361f98a",
   "metadata": {},
   "source": [
    "## Create Simple, Configurable Feed Forward Network"
   ]
  },
  {
   "cell_type": "markdown",
   "id": "0a4ca56d",
   "metadata": {},
   "source": [
    "*The FFN will be used for pre-processing and post-processing layers. It will also be used to perform permutation invariant message passing during the Graph Convolution Layer.*"
   ]
  },
  {
   "cell_type": "code",
   "execution_count": 6,
   "id": "5d543897",
   "metadata": {},
   "outputs": [],
   "source": [
    "def create_ffn(hidden_units, dropout_rate, name=None):\n",
    "    fnn_layers = []\n",
    "\n",
    "    for units in hidden_units:\n",
    "        fnn_layers.append(layers.BatchNormalization())\n",
    "        fnn_layers.append(layers.Dropout(dropout_rate))\n",
    "        fnn_layers.append(layers.Dense(units, activation=tf.nn.gelu))\n",
    "\n",
    "    return keras.Sequential(fnn_layers, name=name)"
   ]
  },
  {
   "cell_type": "markdown",
   "id": "479d8d57",
   "metadata": {},
   "source": [
    "## Create Graph Convolution Layer"
   ]
  },
  {
   "cell_type": "markdown",
   "id": "76233a22",
   "metadata": {},
   "source": [
    "*Graph Convolution Layers follow from the premise of deep sets: https://arxiv.org/abs/1703.06114. The following theorem states how to construct a valid set function using two transformations: $\\phi$ and $\\rho$. Since MLP are considered universal function approximators, $\\phi$ and $\\rho$ can be modeled as neural networks.*"
   ]
  },
  {
   "cell_type": "markdown",
   "id": "fd38e819",
   "metadata": {},
   "source": [
    "> **Theorem 2** A function f (X) operating on a set X having elements from a countable universe, is a\n",
    "valid set function, i.e., invariant to the permutation of instances in X, iff it can be decomposed in the\n",
    "form ρ (∑\n",
    "x∈X φ(x)), for suitable transformations φ and ρ."
   ]
  },
  {
   "cell_type": "markdown",
   "id": "ec462eff",
   "metadata": {},
   "source": [
    "*Message passing in graph neural networks is performed using the valid set funcion shown below. The node representation in the k-1 graph layer, $x_i^{(k-1)}$, will be aggregated with neighboring nodes, $x_j^{(k-1)}$, along with (optional) edge features $e_{j,i}$ using MLP $\\phi^{(k)}$. Now, $\\forall j \\in \\mathcal{N}(i)$ we perform a permutation invariant operation (sum, mean, max) on the outputs of $\\phi^{(k)}$. Then the MLP $\\rho^{(k)}$ will use the result of the permutation invariant vector along with the node representation, $x_i^{(k-1)}$, to compute the updated node embedding in the k graph layer, $x_i^{(k)}$.*"
   ]
  },
  {
   "cell_type": "markdown",
   "id": "3179c58e",
   "metadata": {},
   "source": [
    "$$\\mathbf{x}_i^{(k)} = \\rho^{(k)} \\left( \\mathbf{x}_i^{(k-1)}, \\bigoplus_{j \\in \\mathcal{N}(i)} \\, \\phi^{(k)}\\left(\\mathbf{x}_i^{(k-1)}, \\mathbf{x}_j^{(k-1)},\\mathbf{e}_{j,i}\\right) \\right),$$"
   ]
  },
  {
   "cell_type": "code",
   "execution_count": 7,
   "id": "dcd53b45",
   "metadata": {},
   "outputs": [],
   "source": [
    "# Graph convolution layer\n",
    "# source: https://keras.io/examples/graph/gnn_citations/\n",
    "class GraphConvLayer(layers.Layer):\n",
    "    def __init__(\n",
    "        self,\n",
    "        hidden_units,\n",
    "        dropout_rate=0.2,\n",
    "        aggregation_type=\"mean\",\n",
    "        combination_type=\"concat\",\n",
    "        normalize=False,\n",
    "        *args,\n",
    "        **kwargs,\n",
    "    ):\n",
    "        super().__init__(*args, **kwargs)\n",
    "\n",
    "        self.aggregation_type = aggregation_type\n",
    "        self.combination_type = combination_type\n",
    "        self.normalize = normalize\n",
    "\n",
    "        self.ffn_prepare = create_ffn(hidden_units, dropout_rate)\n",
    "        if self.combination_type == \"gated\":\n",
    "            self.update_fn = layers.GRU(\n",
    "                units=hidden_units,\n",
    "                activation=\"tanh\",\n",
    "                recurrent_activation=\"sigmoid\",\n",
    "                dropout=dropout_rate,\n",
    "                return_state=True,\n",
    "                recurrent_dropout=dropout_rate,\n",
    "            )\n",
    "        else:\n",
    "            self.update_fn = create_ffn(hidden_units, dropout_rate)\n",
    "\n",
    "    def prepare(self, node_repesentations, weights=None):\n",
    "        # node_repesentations shape is [num_edges, embedding_dim].\n",
    "        messages = self.ffn_prepare(node_repesentations)\n",
    "        if weights is not None:\n",
    "            messages = messages * tf.expand_dims(weights, -1)\n",
    "        return messages\n",
    "\n",
    "    def aggregate(self, node_indices, neighbour_messages, node_repesentations):\n",
    "        # node_indices shape is [num_edges].\n",
    "        # neighbour_messages shape: [num_edges, representation_dim].\n",
    "        # node_repesentations shape is [num_nodes, representation_dim]\n",
    "        num_nodes = node_repesentations.shape[0]\n",
    "        if self.aggregation_type == \"sum\":\n",
    "            aggregated_message = tf.math.unsorted_segment_sum(\n",
    "                neighbour_messages, node_indices, num_segments=num_nodes\n",
    "            )\n",
    "        elif self.aggregation_type == \"mean\":\n",
    "            aggregated_message = tf.math.unsorted_segment_mean(\n",
    "                neighbour_messages, node_indices, num_segments=num_nodes\n",
    "            )\n",
    "        elif self.aggregation_type == \"max\":\n",
    "            aggregated_message = tf.math.unsorted_segment_max(\n",
    "                neighbour_messages, node_indices, num_segments=num_nodes\n",
    "            )\n",
    "        else:\n",
    "            raise ValueError(f\"Invalid aggregation type: {self.aggregation_type}.\")\n",
    "\n",
    "        return aggregated_message\n",
    "\n",
    "    def update(self, node_repesentations, aggregated_messages):\n",
    "        # node_repesentations shape is [num_nodes, representation_dim].\n",
    "        # aggregated_messages shape is [num_nodes, representation_dim].\n",
    "        if self.combination_type == \"gru\":\n",
    "            # Create a sequence of two elements for the GRU layer.\n",
    "            h = tf.stack([node_repesentations, aggregated_messages], axis=1)\n",
    "        elif self.combination_type == \"concat\":\n",
    "            # Concatenate the node_repesentations and aggregated_messages.\n",
    "            h = tf.concat([node_repesentations, aggregated_messages], axis=1)\n",
    "        elif self.combination_type == \"add\":\n",
    "            # Add node_repesentations and aggregated_messages.\n",
    "            h = node_repesentations + aggregated_messages\n",
    "        else:\n",
    "            raise ValueError(f\"Invalid combination type: {self.combination_type}.\")\n",
    "\n",
    "        # Apply the processing function.\n",
    "        node_embeddings = self.update_fn(h)\n",
    "        if self.combination_type == \"gru\":\n",
    "            node_embeddings = tf.unstack(node_embeddings, axis=1)[-1]\n",
    "\n",
    "        if self.normalize:\n",
    "            node_embeddings = tf.nn.l2_normalize(node_embeddings, axis=-1)\n",
    "        return node_embeddings\n",
    "\n",
    "    def call(self, inputs):\n",
    "        \"\"\"Process the inputs to produce the node_embeddings.\n",
    "\n",
    "        inputs: a tuple of three elements: node_repesentations, edges, edge_weights.\n",
    "        Returns: node_embeddings of shape [num_nodes, representation_dim].\n",
    "        \"\"\"\n",
    "\n",
    "        node_repesentations, edges, edge_weights = inputs\n",
    "        # Get node_indices (source) and neighbour_indices (target) from edges.\n",
    "        node_indices, neighbour_indices = edges[0], edges[1]\n",
    "        # neighbour_repesentations shape is [num_edges, representation_dim].\n",
    "        neighbour_repesentations = tf.gather(node_repesentations, neighbour_indices)\n",
    "\n",
    "        # Prepare the messages of the neighbours.\n",
    "        neighbour_messages = self.prepare(neighbour_repesentations, edge_weights)\n",
    "        # Aggregate the neighbour messages.\n",
    "        aggregated_messages = self.aggregate(\n",
    "            node_indices, neighbour_messages, node_repesentations\n",
    "        )\n",
    "        # Update the node embedding with the neighbour messages.\n",
    "        return self.update(node_repesentations, aggregated_messages)\n"
   ]
  },
  {
   "cell_type": "markdown",
   "id": "4b11e525",
   "metadata": {},
   "source": [
    "## Construct GNN Node Classifier"
   ]
  },
  {
   "cell_type": "markdown",
   "id": "ae1db5a1",
   "metadata": {},
   "source": [
    "*This is the 'driver' function that links together pre-processing, graph convolution layer, post-processing layer, and the final classification layer.*"
   ]
  },
  {
   "cell_type": "code",
   "execution_count": 8,
   "id": "39e35ac8",
   "metadata": {},
   "outputs": [],
   "source": [
    "# Defines the model structure and performs classification on nodes\n",
    "# source: https://keras.io/examples/graph/gnn_citations/\n",
    "class GNNNodeClassifier(tf.keras.Model):\n",
    "    def __init__(\n",
    "        self,\n",
    "        graph_info,\n",
    "        num_classes,\n",
    "        hidden_units,\n",
    "        aggregation_type=\"sum\",\n",
    "        combination_type=\"concat\",\n",
    "        dropout_rate=0.2,\n",
    "        normalize=True,\n",
    "        *args,\n",
    "        **kwargs,\n",
    "    ):\n",
    "        super().__init__(*args, **kwargs)\n",
    "\n",
    "        # Unpack graph_info to three elements: node_features, edges, and edge_weight.\n",
    "        node_features, edges, edge_weights = graph_info\n",
    "        self.node_features = node_features\n",
    "        self.edges = edges\n",
    "        self.edge_weights = edge_weights\n",
    "        # Set edge_weights to ones if not provided.\n",
    "        if self.edge_weights is None:\n",
    "            self.edge_weights = tf.ones(shape=edges.shape[1])\n",
    "        # Scale edge_weights to sum to 1.\n",
    "        self.edge_weights = self.edge_weights / tf.math.reduce_sum(self.edge_weights)\n",
    "\n",
    "        # Create a process layer.\n",
    "        self.preprocess = create_ffn(hidden_units, dropout_rate, name=\"preprocess\")\n",
    "        # Create the first GraphConv layer.\n",
    "        self.conv1 = GraphConvLayer(\n",
    "            hidden_units,\n",
    "            dropout_rate,\n",
    "            aggregation_type,\n",
    "            combination_type,\n",
    "            normalize,\n",
    "            name=\"graph_conv1\",\n",
    "        )\n",
    "        # Create the second GraphConv layer.\n",
    "        #self.conv2 = GraphConvLayer(\n",
    "        #    hidden_units,\n",
    "        #    dropout_rate,\n",
    "        #    aggregation_type,\n",
    "        #    combination_type,\n",
    "        #    normalize,\n",
    "        #    name=\"graph_conv2\",\n",
    "        #)\n",
    "        # Create a postprocess layer.\n",
    "        self.postprocess = create_ffn(hidden_units, dropout_rate, name=\"postprocess\")\n",
    "        # Create a compute logits layer.\n",
    "        self.compute_logits = layers.Dense(units=num_classes, name=\"logits\", activation=\"sigmoid\")\n",
    "\n",
    "    def call(self, input_node_indices):\n",
    "        # Preprocess the node_features to produce node representations.\n",
    "        x = self.preprocess(self.node_features)\n",
    "        # Apply the first graph conv layer.\n",
    "        x1 = self.conv1((x, self.edges, self.edge_weights))\n",
    "        # Skip connection.\n",
    "        x = x1 + x\n",
    "        # Apply the second graph conv layer.\n",
    "        #x2 = self.conv2((x, self.edges, self.edge_weights))\n",
    "        # Skip connection.\n",
    "        #x = x2 + x\n",
    "        # Postprocess node embedding.\n",
    "        x = self.postprocess(x)\n",
    "        # Fetch node embeddings for the input node_indices.\n",
    "        node_embeddings = tf.gather(x, input_node_indices)\n",
    "        # Compute logits\n",
    "        return self.compute_logits(node_embeddings)\n"
   ]
  },
  {
   "cell_type": "markdown",
   "id": "89112789",
   "metadata": {},
   "source": [
    "## Initialize the GNN Model"
   ]
  },
  {
   "cell_type": "markdown",
   "id": "b414cddc",
   "metadata": {},
   "source": [
    "*Define model parameters, initialize GNNNodeClassifier object, and test the model by passing a list of node indicies, [1, 10, 100], to get the output score of the model. Notice the model is untrained, so these values are insignificant.*"
   ]
  },
  {
   "cell_type": "code",
   "execution_count": 9,
   "id": "11b8f57f",
   "metadata": {},
   "outputs": [
    {
     "name": "stdout",
     "output_type": "stream",
     "text": [
      "GNN output shape: tf.Tensor(\n",
      "[[0.0547159 ]\n",
      " [0.27373528]\n",
      " [0.00682494]], shape=(3, 1), dtype=float32)\n",
      "Model: \"gnn_model\"\n",
      "_________________________________________________________________\n",
      " Layer (type)                Output Shape              Param #   \n",
      "=================================================================\n",
      " preprocess (Sequential)     (46300, 16)               412       \n",
      "                                                                 \n",
      " graph_conv1 (GraphConvLayer  multiple                 1664      \n",
      " )                                                               \n",
      "                                                                 \n",
      " postprocess (Sequential)    (46300, 16)               672       \n",
      "                                                                 \n",
      " logits (Dense)              multiple                  17        \n",
      "                                                                 \n",
      "=================================================================\n",
      "Total params: 2,765\n",
      "Trainable params: 2,503\n",
      "Non-trainable params: 262\n",
      "_________________________________________________________________\n"
     ]
    }
   ],
   "source": [
    "hidden_units = [16, 16]\n",
    "learning_rate = 0.001\n",
    "dropout_rate = 0.25\n",
    "num_epochs = 10\n",
    "batch_size = 1024\n",
    "num_classes = 1     # Binary Classification [0,1]\n",
    "\n",
    "gnn_model = GNNNodeClassifier(\n",
    "    graph_info=graph_info,\n",
    "    num_classes=num_classes,\n",
    "    hidden_units=hidden_units,\n",
    "    dropout_rate=dropout_rate,\n",
    "    name=\"gnn_model\",\n",
    ")\n",
    "\n",
    "print(\"GNN output shape:\", gnn_model([1, 10, 100]))\n",
    "\n",
    "gnn_model.summary()\n"
   ]
  },
  {
   "cell_type": "markdown",
   "id": "4660eef5",
   "metadata": {},
   "source": [
    "## Define the Training Loop"
   ]
  },
  {
   "cell_type": "markdown",
   "id": "38b2308f",
   "metadata": {},
   "source": [
    "*Compile the model with the optimizer, loss function, and training metric. Implement early stoppting to prevent overtraining. Finally, train the model using model.fit().*"
   ]
  },
  {
   "cell_type": "code",
   "execution_count": 10,
   "id": "1a75f8d4",
   "metadata": {},
   "outputs": [],
   "source": [
    "def run_experiment(model, x_train, y_train):\n",
    "    # Compile the model.\n",
    "    model.compile(\n",
    "        optimizer=keras.optimizers.Adam(learning_rate),\n",
    "        loss=keras.losses.BinaryCrossentropy(from_logits=False),\n",
    "        metrics=[keras.metrics.BinaryAccuracy(name=\"acc\")],\n",
    "    )\n",
    "    # Create an early stopping callback.\n",
    "    early_stopping = keras.callbacks.EarlyStopping(\n",
    "        monitor=\"val_acc\", patience=10, restore_best_weights=True\n",
    "    )\n",
    "    # Fit the model.\n",
    "    history = model.fit(\n",
    "        x=x_train,\n",
    "        y=y_train,\n",
    "        epochs=num_epochs,\n",
    "        batch_size=batch_size,\n",
    "        validation_split=0.15,\n",
    "        callbacks=[early_stopping],\n",
    "        shuffle=True,\n",
    "        use_multiprocessing=True,\n",
    "    )\n",
    "\n",
    "    return history"
   ]
  },
  {
   "cell_type": "code",
   "execution_count": 11,
   "id": "10141e3d",
   "metadata": {},
   "outputs": [
    {
     "name": "stdout",
     "output_type": "stream",
     "text": [
      "Epoch 1/10\n",
      "31/31 [==============================] - 8s 187ms/step - loss: 0.6399 - acc: 0.6378 - val_loss: 0.5158 - val_acc: 0.8792\n",
      "Epoch 2/10\n",
      "31/31 [==============================] - 5s 174ms/step - loss: 0.4416 - acc: 0.8597 - val_loss: 0.3772 - val_acc: 0.8825\n",
      "Epoch 3/10\n",
      "31/31 [==============================] - 5s 174ms/step - loss: 0.3282 - acc: 0.8884 - val_loss: 0.2955 - val_acc: 0.8951\n",
      "Epoch 4/10\n",
      "31/31 [==============================] - 5s 176ms/step - loss: 0.2772 - acc: 0.8959 - val_loss: 0.2545 - val_acc: 0.9098\n",
      "Epoch 5/10\n",
      "31/31 [==============================] - 5s 174ms/step - loss: 0.2539 - acc: 0.9015 - val_loss: 0.2323 - val_acc: 0.9140\n",
      "Epoch 6/10\n",
      "31/31 [==============================] - 5s 174ms/step - loss: 0.2416 - acc: 0.9026 - val_loss: 0.2216 - val_acc: 0.9159\n",
      "Epoch 7/10\n",
      "31/31 [==============================] - 5s 174ms/step - loss: 0.2349 - acc: 0.9053 - val_loss: 0.2139 - val_acc: 0.9158\n",
      "Epoch 8/10\n",
      "31/31 [==============================] - 5s 172ms/step - loss: 0.2317 - acc: 0.9053 - val_loss: 0.2081 - val_acc: 0.9159\n",
      "Epoch 9/10\n",
      "31/31 [==============================] - 5s 174ms/step - loss: 0.2235 - acc: 0.9064 - val_loss: 0.2014 - val_acc: 0.9176\n",
      "Epoch 10/10\n",
      "31/31 [==============================] - 5s 174ms/step - loss: 0.2218 - acc: 0.9064 - val_loss: 0.1954 - val_acc: 0.9170\n"
     ]
    }
   ],
   "source": [
    "history = run_experiment(gnn_model, x_train, y_train)"
   ]
  },
  {
   "cell_type": "markdown",
   "id": "2f7acaee",
   "metadata": {},
   "source": [
    "## Display Learning Curves"
   ]
  },
  {
   "cell_type": "code",
   "execution_count": 12,
   "id": "af15df3b",
   "metadata": {},
   "outputs": [],
   "source": [
    "def display_learning_curves(history):\n",
    "    fig, (ax1, ax2) = plt.subplots(1, 2, figsize=(15, 5))\n",
    "\n",
    "    ax1.plot(history.history[\"loss\"])\n",
    "    ax1.plot(history.history[\"val_loss\"])\n",
    "    ax1.legend([\"train\", \"validation\"], loc=\"upper right\")\n",
    "    ax1.set_xlabel(\"Epochs\")\n",
    "    ax1.set_ylabel(\"Loss\")\n",
    "\n",
    "    ax2.plot(history.history[\"acc\"])\n",
    "    ax2.plot(history.history[\"val_acc\"])\n",
    "    ax2.legend([\"train\", \"validation\"], loc=\"upper right\")\n",
    "    ax2.set_xlabel(\"Epochs\")\n",
    "    ax2.set_ylabel(\"Accuracy\")\n",
    "    plt.show()\n"
   ]
  },
  {
   "cell_type": "code",
   "execution_count": 13,
   "id": "f477fb85",
   "metadata": {},
   "outputs": [
    {
     "data": {
      "image/png": "[encoded data removed]",
      "text/plain": [
       "<Figure size 1500x500 with 2 Axes>"
      ]
     },
     "metadata": {},
     "output_type": "display_data"
    }
   ],
   "source": [
    "display_learning_curves(history)"
   ]
  },
  {
   "cell_type": "code",
   "execution_count": 27,
   "id": "3049fb12",
   "metadata": {},
   "outputs": [],
   "source": [
    "from sklearn.metrics import roc_curve\n",
    "from sklearn.metrics import auc\n",
    "from sklearn.metrics import f1_score\n",
    "\n",
    "y_pred = gnn_model.predict(x_test).ravel()\n",
    "y_true = y_test"
   ]
  },
  {
   "cell_type": "code",
   "execution_count": 32,
   "id": "37370473",
   "metadata": {},
   "outputs": [
    {
     "data": {
      "image/png": "[encoded data removed]",
      "text/plain": [
       "<Figure size 640x480 with 1 Axes>"
      ]
     },
     "metadata": {},
     "output_type": "display_data"
    }
   ],
   "source": [
    "fpr_keras, tpr_keras, thresholds_keras = roc_curve(y_true, y_pred)\n",
    "AUC = auc(fpr_keras, tpr_keras)\n",
    "plt.plot(fpr_keras, tpr_keras)\n",
    "plt.title(\"roc curve\")\n",
    "plt.text(0.75,0.1,\"AUC:\"+str(round(AUC,6)))\n",
    "plt.show()"
   ]
  },
  {
   "cell_type": "code",
   "execution_count": 33,
   "id": "a1faa4e5",
   "metadata": {},
   "outputs": [
    {
     "name": "stdout",
     "output_type": "stream",
     "text": [
      "F1 Score:  0.17096018735362997\n"
     ]
    }
   ],
   "source": [
    "threshhold = 0.5\n",
    "\n",
    "y_pred_threshold = np.copy(y_pred)\n",
    "y_pred_threshold[y_pred_threshold >= threshhold] = 1\n",
    "y_pred_threshold[y_pred_threshold < threshhold] = 0\n",
    "\n",
    "#print(y_pred_threshold[0:100])\n",
    "#print(np.mean(y_pred_threshold))\n",
    "\n",
    "F1 = f1_score(y_true, y_pred_threshold)\n",
    "print(\"F1 Score: \", F1)"
   ]
  }
 ],
 "metadata": {
  "kernelspec": {
   "display_name": "Python 3 (ipykernel)",
   "language": "python",
   "name": "python3"
  },
  "language_info": {
   "codemirror_mode": {
    "name": "ipython",
    "version": 3
   },
   "file_extension": ".py",
   "mimetype": "text/x-python",
   "name": "python",
   "nbconvert_exporter": "python",
   "pygments_lexer": "ipython3",
   "version": "3.8.2"
  }
 },
 "nbformat": 4,
 "nbformat_minor": 5
}
