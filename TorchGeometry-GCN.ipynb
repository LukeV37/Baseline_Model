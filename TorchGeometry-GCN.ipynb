{
 "cells": [
  {
   "cell_type": "code",
   "execution_count": 1,
   "id": "3a3eb3cf",
   "metadata": {},
   "outputs": [
    {
     "name": "stderr",
     "output_type": "stream",
     "text": [
      "/usr/lib/python3/dist-packages/scipy/__init__.py:146: UserWarning: A NumPy version >=1.17.3 and <1.25.0 is required for this version of SciPy (detected version 1.26.1\n",
      "  warnings.warn(f\"A NumPy version >={np_minversion} and <{np_maxversion}\"\n"
     ]
    }
   ],
   "source": [
    "import torch\n",
    "\n",
    "import numpy as np\n",
    "import torch.nn as nn\n",
    "import torch.nn.functional as F\n",
    "import torch.optim as optim\n",
    "import matplotlib.pyplot as plt\n",
    "\n",
    "from time import sleep\n",
    "from tqdm import trange\n",
    "from torch_geometric.data import Data\n",
    "from torch_geometric.loader import DataLoader\n",
    "from torch_geometric.nn import GCNConv, SAGEConv, GATConv\n",
    "from torch.utils.data import random_split\n",
    "from sklearn.metrics import auc, roc_curve, f1_score\n",
    "from sklearn.metrics import confusion_matrix,ConfusionMatrixDisplay"
   ]
  },
  {
   "cell_type": "code",
   "execution_count": 2,
   "id": "d04b7fb3",
   "metadata": {},
   "outputs": [],
   "source": [
    "class GCNModel(nn.Module):\n",
    "    def __init__(self, in_channels, hidden_channels, out_channels, num_classes):\n",
    "        super(GCNModel, self).__init__()\n",
    "        self.conv1 = GCNConv(in_channels,hidden_channels)\n",
    "        self.conv2 = GCNConv(hidden_channels,out_channels)\n",
    "        self.fc = nn.Linear(out_channels,num_classes)\n",
    "        \n",
    "    def forward(self, data):\n",
    "        x, edge_index = data.x, data.edge_index\n",
    "        x = self.conv1(x, edge_index)\n",
    "        x = F.relu(x)\n",
    "        #x = self.conv2(x, edge_index)\n",
    "        #x = F.relu(x)\n",
    "        x = F.dropout(x, training = self.training)\n",
    "        x = self.fc(x)\n",
    "        \n",
    "        return F.log_softmax(x, dim=1)"
   ]
  },
  {
   "cell_type": "code",
   "execution_count": 3,
   "id": "8c11b91c",
   "metadata": {},
   "outputs": [],
   "source": [
    "class SAGEGCN(nn.Module):\n",
    "    def __init__(self, in_channels, hidden_channels, out_channels, num_classes):\n",
    "        super(SAGEGCN, self).__init__()\n",
    "        self.conv1 = SAGEConv(in_channels,hidden_channels)\n",
    "        self.conv2 = SAGEConv(hidden_channels,out_channels)\n",
    "        self.fc = nn.Linear(out_channels,num_classes)\n",
    "        \n",
    "    def forward(self, data):\n",
    "        x, edge_index = data.x, data.edge_index\n",
    "        x = self.conv1(x, edge_index)\n",
    "        x = F.relu(x)\n",
    "        #x = self.conv2(x, edge_index)\n",
    "        #x = F.relu(x)\n",
    "        x = F.dropout(x, training = self.training)\n",
    "        x = self.fc(x)\n",
    "        \n",
    "        return F.log_softmax(x, dim=1)"
   ]
  },
  {
   "cell_type": "code",
   "execution_count": 4,
   "id": "ce6cf0c6",
   "metadata": {},
   "outputs": [],
   "source": [
    "class Geo_GAT(nn.Module):\n",
    "    def __init__(self, in_channels, hidden_channels, out_channels, num_classes):\n",
    "        super(Geo_GAT, self).__init__()\n",
    "        self.conv1 = GATConv(in_channels,hidden_channels)\n",
    "        self.conv2 = GATConv(hidden_channels,out_channels)\n",
    "        self.fc = nn.Linear(out_channels,num_classes)\n",
    "        \n",
    "    def forward(self, data):\n",
    "        x, edge_index = data.x, data.edge_index\n",
    "        x = self.conv1(x, edge_index)\n",
    "        x = F.relu(x)\n",
    "        #x = self.conv2(x, edge_index)\n",
    "        #x = F.relu(x)\n",
    "        x = F.dropout(x, training = self.training)\n",
    "        x = self.fc(x)\n",
    "        \n",
    "        return F.log_softmax(x, dim=1)"
   ]
  },
  {
   "cell_type": "code",
   "execution_count": 5,
   "id": "01442858",
   "metadata": {},
   "outputs": [],
   "source": [
    "### DATASET WITH JET FEATURES ONLY!!!! TRAINING WORKS :)\n",
    "#train_data = torch.load('data/ttbar100k/processed/data_train.pt')\n",
    "#test_data = torch.load('data/ttbar100k/processed/data_test.pt')\n",
    "\n",
    "### DATASET WITH JET AND TRACK FEATURES\n",
    "train_data = torch.load('data/wtracks/ttbar/processed/data_train.pt')\n",
    "test_data = torch.load('data/wtracks/ttbar/processed/data_test.pt')"
   ]
  },
  {
   "cell_type": "code",
   "execution_count": 6,
   "id": "1d371114",
   "metadata": {},
   "outputs": [],
   "source": [
    "labels = torch.unique(train_data.y)\n",
    "num_classes = labels.size(0)\n",
    "\n",
    "# Pick the model from below\n",
    "\n",
    "model = GCNModel(train_data.num_features, 16, 16, num_classes)\n",
    "# model = SAGEGCN(train_data.num_features, 16, 16, num_classes)\n",
    "# model = Geo_GAT(train_data.num_features, 16, 16, num_classes)\n",
    "\n",
    "optimizer = optim.Adam(model.parameters(), lr=0.01, weight_decay=5e-4)\n"
   ]
  },
  {
   "cell_type": "code",
   "execution_count": 7,
   "id": "50a171c4",
   "metadata": {},
   "outputs": [],
   "source": [
    "def train():  \n",
    "    total_train = train_data.num_nodes\n",
    "    true_train_labels = train_data.y\n",
    "    \n",
    "    \n",
    "    model.train()\n",
    "    \n",
    "    pbar = trange(400, desc=\"GCN training\", unit=\"epoch\")\n",
    "    \n",
    "    for i in pbar:\n",
    "        sleep(0.1)\n",
    "        pbar.set_description(f\"Epoch {i}\")\n",
    "    \n",
    "        optimizer.zero_grad()\n",
    "        out = model(train_data)\n",
    "        \n",
    "        out = model(train_data)\n",
    "        pred = out.max(dim=1)[1]\n",
    "        \n",
    "        correct = pred.eq(true_train_labels).sum().item()\n",
    "        accuracy = correct/total_train\n",
    "        \n",
    "        loss = F.cross_entropy(out, true_train_labels)\n",
    "        loss.backward()\n",
    "        optimizer.step()\n",
    "    \n",
    "        pbar.set_postfix(loss=loss.item(), accuracy=100. * accuracy)\n",
    "        sleep(0.1)\n",
    "    "
   ]
  },
  {
   "cell_type": "code",
   "execution_count": 8,
   "id": "0c3e2a93",
   "metadata": {},
   "outputs": [],
   "source": [
    "def get_metrics(plt_title, confusion_matrix_path):\n",
    "    model.eval()\n",
    "    \n",
    "    correct = 0\n",
    "    total = 0\n",
    "    \n",
    "    with torch.no_grad():\n",
    "        # Get true label and prediction\n",
    "        true = test_data.y\n",
    "        out = model(test_data)\n",
    "        pred = out.max(dim=1)[1]\n",
    "        \n",
    "        correct = pred.eq(true).sum().item()\n",
    "        total = test_data.num_nodes\n",
    "        \n",
    "        true_y = true.numpy()\n",
    "        pred_y = pred.numpy()\n",
    "        \n",
    "        F1 = f1_score(true_y, pred_y, average=\"weighted\")\n",
    "        \n",
    "        print(f'Test Acc.: {correct/total:.4f}')\n",
    "        print(\"F1 Score: \", F1)\n",
    "        \n",
    "        cm = confusion_matrix(true_y, pred_y)\n",
    "        #cm = confusion_matrix(true_y, pred_y,normalize='true')\n",
    "\n",
    "        disp = ConfusionMatrixDisplay(cm)\n",
    "        disp.plot()\n",
    "        plt.title(plt_title)\n",
    "        #plt.savefig(confusion_matrix_path)\n",
    "        plt.show()\n",
    "        \n",
    "        print(\"Number of Nodes: \", len(pred_y))"
   ]
  },
  {
   "cell_type": "code",
   "execution_count": 9,
   "id": "4645f247",
   "metadata": {},
   "outputs": [],
   "source": [
    "def get_roc(plt_title, roc_path):\n",
    "    model.eval()\n",
    "    \n",
    "    correct = 0\n",
    "    total = 0\n",
    "    \n",
    "    with torch.no_grad():\n",
    "            true_y = test_data.y.numpy()\n",
    "            out = model(test_data)            \n",
    "            \n",
    "            # The following converts log_softmax outputs into probablities\n",
    "            probs = torch.exp(out).numpy()\n",
    "\n",
    "    \n",
    "            preds = []\n",
    "\n",
    "            for i,p in enumerate(probs):\n",
    "                preds.append(p[1]) # Get the probability of true class\n",
    "            pred_y = np.array(preds)\n",
    "\n",
    "\n",
    "\n",
    "            fpr_keras, tpr_keras, thresholds = roc_curve(true_y, pred_y)\n",
    "            AUC = auc(fpr_keras, tpr_keras)\n",
    "            plt.plot(fpr_keras, tpr_keras)\n",
    "            plt.plot([0, 1], [0, 1], color='navy', lw=2, linestyle='--', label='No Skill')\n",
    "            plt.title(plt_title)\n",
    "            plt.xlabel(\"FPR\")\n",
    "            plt.ylabel(\"TPR\")\n",
    "            plt.text(0.75,0.1,\"AUC:\"+str(round(AUC,6)))\n",
    "            #plt.savefig(roc_path)\n",
    "            plt.show()"
   ]
  },
  {
   "cell_type": "code",
   "execution_count": 10,
   "id": "426d151a",
   "metadata": {},
   "outputs": [
    {
     "name": "stderr",
     "output_type": "stream",
     "text": [
      "Epoch 399: 100%|██████████| 400/400 [27:16<00:00,  4.09s/epoch, accuracy=55, loss=0.688]\n"
     ]
    }
   ],
   "source": [
    "train()"
   ]
  },
  {
   "cell_type": "code",
   "execution_count": 11,
   "id": "71798d76",
   "metadata": {},
   "outputs": [
    {
     "name": "stdout",
     "output_type": "stream",
     "text": [
      "Test Acc.: 0.5499\n",
      "F1 Score:  0.39017852562981\n"
     ]
    },
    {
     "data": {
      "image/png": "[encoded data removed]",
      "text/plain": [
       "<Figure size 432x288 with 2 Axes>"
      ]
     },
     "metadata": {
      "needs_background": "light"
     },
     "output_type": "display_data"
    },
    {
     "name": "stdout",
     "output_type": "stream",
     "text": [
      "Number of Nodes:  679547\n"
     ]
    }
   ],
   "source": [
    "get_metrics('GCN Confusion Matrix','Datasets/ttbar/GAT_ConfusionMatrix.png') # plot title and filepath"
   ]
  },
  {
   "cell_type": "code",
   "execution_count": 12,
   "id": "ecef9f3c",
   "metadata": {},
   "outputs": [
    {
     "data": {
      "image/png": "[encoded data removed]",
      "text/plain": [
       "<Figure size 432x288 with 1 Axes>"
      ]
     },
     "metadata": {
      "needs_background": "light"
     },
     "output_type": "display_data"
    }
   ],
   "source": [
    "get_roc('GCN ROC Curve','Datasets/ttbar/GAT_roc.png') # Plot title and filepath"
   ]
  },
  {
   "cell_type": "code",
   "execution_count": null,
   "id": "ba28689d",
   "metadata": {},
   "outputs": [],
   "source": []
  },
  {
   "cell_type": "code",
   "execution_count": null,
   "id": "7a2924de",
   "metadata": {},
   "outputs": [],
   "source": []
  }
 ],
 "metadata": {
  "kernelspec": {
   "display_name": "Python 3 (ipykernel)",
   "language": "python",
   "name": "python3"
  },
  "language_info": {
   "codemirror_mode": {
    "name": "ipython",
    "version": 3
   },
   "file_extension": ".py",
   "mimetype": "text/x-python",
   "name": "python",
   "nbconvert_exporter": "python",
   "pygments_lexer": "ipython3",
   "version": "3.10.12"
  }
 },
 "nbformat": 4,
 "nbformat_minor": 5
}
