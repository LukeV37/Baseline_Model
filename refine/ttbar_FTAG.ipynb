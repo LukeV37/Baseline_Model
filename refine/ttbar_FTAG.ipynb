{
 "cells": [
  {
   "cell_type": "code",
   "execution_count": 1,
   "id": "1f261b2d",
   "metadata": {
    "scrolled": true
   },
   "outputs": [],
   "source": [
    "import h5py\n",
    "import numpy as np\n",
    "import matplotlib.pyplot as plt"
   ]
  },
  {
   "cell_type": "code",
   "execution_count": 2,
   "id": "e4f70cda",
   "metadata": {
    "scrolled": true
   },
   "outputs": [],
   "source": [
    "#!h5ls -v ../data/ttbar.h5"
   ]
  },
  {
   "cell_type": "code",
   "execution_count": 3,
   "id": "f5c787e7",
   "metadata": {
    "scrolled": true
   },
   "outputs": [
    {
     "name": "stdout",
     "output_type": "stream",
     "text": [
      "Keys: <KeysViewHDF5 ['jets', 'tracks']>\n"
     ]
    }
   ],
   "source": [
    "filename = \"../data/ttbar.h5\"\n",
    "\n",
    "with h5py.File(filename, \"r\") as f:\n",
    "    print(\"Keys: %s\" % f.keys())\n",
    "    jet_pt = f['jets']['pt'] / 1000.0\n",
    "    trk_pt = f['tracks']['pt'] / 1000.0"
   ]
  },
  {
   "cell_type": "code",
   "execution_count": 4,
   "id": "ccad7e38",
   "metadata": {
    "scrolled": true
   },
   "outputs": [
    {
     "name": "stdout",
     "output_type": "stream",
     "text": [
      "68.020775\n",
      "0.8801454\n"
     ]
    }
   ],
   "source": [
    "print(jet_pt[0])\n",
    "print(trk_pt[0][0])"
   ]
  },
  {
   "cell_type": "code",
   "execution_count": 5,
   "id": "00efee8f",
   "metadata": {
    "scrolled": true
   },
   "outputs": [
    {
     "name": "stdout",
     "output_type": "stream",
     "text": [
      "Number of Jets:  5541240\n",
      "Number of Tracks:  41170351\n"
     ]
    }
   ],
   "source": [
    "num_trks_h = []\n",
    "jet_pt_h = []\n",
    "trk_pt_h = []\n",
    "pt_ratio_h = []\n",
    "\n",
    "pt_ratio_low_h = []\n",
    "pt_ratio_mid_h = []\n",
    "pt_ratio_high_h = []\n",
    "num_trks_low_h = []\n",
    "num_trks_mid_h = []\n",
    "num_trks_high_h = []\n",
    "\n",
    "total_trk=0\n",
    "for i in range(len(jet_pt)):\n",
    "    num_trk=0\n",
    "    sum_pt=0\n",
    "    jpt = jet_pt[i]\n",
    "    jet_pt_h.append(jpt)\n",
    "    \n",
    "    for j in range(len(trk_pt[i])):\n",
    "        tpt = trk_pt[i][j]\n",
    "        # Check if trk is not NaN\n",
    "        if tpt == tpt:\n",
    "            num_trk+=1\n",
    "            sum_pt+=tpt\n",
    "            trk_pt_h.append(tpt)\n",
    "            total_trk+=1\n",
    "            \n",
    "    num_trks_h.append(num_trk)\n",
    "    pt_ratio_h.append(sum_pt/jpt)\n",
    "    if jpt<40:\n",
    "        num_trks_low_h.append(num_trk)\n",
    "        pt_ratio_low_h.append(sum_pt/jpt)\n",
    "    elif jpt<70:\n",
    "        num_trks_mid_h.append(num_trk)\n",
    "        pt_ratio_mid_h.append(sum_pt/jpt)\n",
    "    elif jpt>=70:\n",
    "        num_trks_high_h.append(num_trk)\n",
    "        pt_ratio_high_h.append(sum_pt/jpt)\n",
    "        \n",
    "print(\"Number of Jets: \", len(jet_pt))\n",
    "print(\"Number of Tracks: \", total_trk)"
   ]
  },
  {
   "cell_type": "code",
   "execution_count": null,
   "id": "87e1a04f",
   "metadata": {
    "scrolled": false
   },
   "outputs": [],
   "source": [
    "plt.hist(jet_pt_h, bins=50,range=(0,250),color='red')\n",
    "plt.title(\"Jet pT\")\n",
    "plt.legend([\"ttbar\"])\n",
    "plt.show()\n",
    "plt.hist(trk_pt_h, bins=50,color='red',range=(0,10))\n",
    "plt.title(\"Trk pT\")\n",
    "plt.legend([\"ttbar\"])\n",
    "plt.show()\n",
    "plt.hist(num_trks_h, bins=30,color='red',range=(0,30))\n",
    "plt.title(\"Number of Tracks Per Jet\")\n",
    "plt.legend([\"ttbar\"])\n",
    "plt.show()\n",
    "plt.hist(pt_ratio_h, bins=30,range=(0,3),color='red')\n",
    "plt.title(\"Ratio of Sum of Track pT to Associated Jet pT\")\n",
    "plt.legend([\"ttbar\"])\n",
    "plt.show()\n",
    "plt.hist(num_trks_low_h, bins=30,range=(0,30),color='red')\n",
    "plt.title(\"Number of Tracks Per Jet {jet_pt:0-40GeV}\")\n",
    "plt.legend([\"ttbar\"])\n",
    "plt.show()\n",
    "plt.hist(num_trks_mid_h, bins=30,range=(0,30),color='red')\n",
    "plt.title(\"Number of Tracks Per Jet {jet_pt:40-70GeV}\")\n",
    "plt.legend([\"ttbar\"])\n",
    "plt.show()\n",
    "plt.hist(num_trks_high_h, bins=30,range=(0,30),color='red')\n",
    "plt.title(\"Number of Tracks Per Jet {jet_pt:>70GeV}\")\n",
    "plt.legend([\"ttbar\"])\n",
    "plt.show()\n",
    "plt.hist(pt_ratio_low_h, bins=50,range=(0,3),color='red')\n",
    "plt.title(\"Ratio of Sum of Track pT to Associated Jet pT {0-40GeV}\")\n",
    "plt.legend([\"ttbar\"])\n",
    "plt.show()\n",
    "plt.hist(pt_ratio_mid_h, bins=50,range=(0,3),color='red')\n",
    "plt.title(\"Ratio of Sum of Track pT to Associated Jet pT {40-70GeV}\")\n",
    "plt.legend([\"ttbar\"])\n",
    "plt.show()\n",
    "plt.hist(pt_ratio_high_h, bins=50,range=(0,3),color='red')\n",
    "plt.title(\"Ratio of Sum of Track pT to Associated Jet pT {>70GeV}\")\n",
    "plt.legend([\"ttbar\"])\n",
    "plt.show()"
   ]
  },
  {
   "cell_type": "code",
   "execution_count": null,
   "id": "0e32c5b0",
   "metadata": {
    "scrolled": true
   },
   "outputs": [],
   "source": []
  }
 ],
 "metadata": {
  "kernelspec": {
   "display_name": "Python 3 (ipykernel)",
   "language": "python",
   "name": "python3"
  },
  "language_info": {
   "codemirror_mode": {
    "name": "ipython",
    "version": 3
   },
   "file_extension": ".py",
   "mimetype": "text/x-python",
   "name": "python",
   "nbconvert_exporter": "python",
   "pygments_lexer": "ipython3",
   "version": "3.10.12"
  }
 },
 "nbformat": 4,
 "nbformat_minor": 5
}
