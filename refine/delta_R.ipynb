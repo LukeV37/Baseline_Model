{
 "cells": [
  {
   "cell_type": "code",
   "execution_count": 1,
   "id": "91e56322",
   "metadata": {},
   "outputs": [],
   "source": [
    "import uproot\n",
    "import numpy as np\n",
    "import matplotlib.pyplot as plt"
   ]
  },
  {
   "cell_type": "code",
   "execution_count": 2,
   "id": "77fece15",
   "metadata": {},
   "outputs": [],
   "source": [
    "events_ttbar = uproot.open(\"../data/user.khanov.mc15_14TeV.600012.PhPy8EG_A14_ttbar_hdamp258p75_nonallhad.r12573_mc_trk_Akt4EMTo/user.khanov.37100851.Akt4EMTo._000001.root:bTag_AntiKt4EMTopoJets\")\n",
    "events_ZZ4nu = uproot.open(\"../data/user.khanov.mc15.mc15_14TeV.600026.PhH7EG_NNPDF3_AZNLO_VBFH125_ZZ4nu_MET75.r13618_mc_trk_Akt4EMTo/user.khanov.37100685.Akt4EMTo._000001.root:bTag_AntiKt4EMTopoJets\")"
   ]
  },
  {
   "cell_type": "code",
   "execution_count": 3,
   "id": "d028b0fe",
   "metadata": {},
   "outputs": [],
   "source": [
    "#events.keys()\n",
    "#events.values()"
   ]
  },
  {
   "cell_type": "code",
   "execution_count": 4,
   "id": "93e6948a",
   "metadata": {},
   "outputs": [
    {
     "name": "stdout",
     "output_type": "stream",
     "text": [
      "[[[0, 1, 2, 3, 4, 5, 6, 7, 8, 9, 10, 11, 12, 13, 14, 15, 16], ..., [...]], ...]\n",
      "[[2.37e+04, 1.56e+04, 5.76e+03, 1.58e+04, ..., 596, 1.29e+03, 2.1e+03], ...]\n"
     ]
    }
   ],
   "source": [
    "jet_pt = events_ttbar[\"jet_pt_orig\"].array(library='ak')\n",
    "jet_eta = events_ttbar[\"jet_eta\"].array(library='ak')\n",
    "jet_phi = events_ttbar[\"jet_phi\"].array(library='ak')\n",
    "trk_pt = events_ttbar[\"trk_pt\"].array(library='ak')\n",
    "trk_eta = events_ttbar[\"trk_eta\"].array(library='ak')\n",
    "trk_phi = events_ttbar[\"trk_phi\"].array(library='ak')\n",
    "\n",
    "jet_trkAssoc_index = events_ttbar[\"jet_trackAssoc_index\"].array(library='ak')\n",
    "\n",
    "print(jet_trkAssoc_index)\n",
    "print(trk_pt)"
   ]
  },
  {
   "cell_type": "code",
   "execution_count": 5,
   "id": "e7fcbd46",
   "metadata": {},
   "outputs": [],
   "source": [
    "#events = len(jet_pt)\n",
    "events = 100\n",
    "\n",
    "delta_R = []\n",
    "pt_ratio = []\n",
    "num_trks = []\n",
    "\n",
    "for i in range(events):\n",
    "    for j in range(len(jet_pt[i])):\n",
    "        sum_pt = 0\n",
    "        \n",
    "        jpt = jet_pt[i][j]\n",
    "        jeta = jet_eta[i][j]\n",
    "        jphi = jet_phi[i][j]\n",
    "        \n",
    "        num_trk = len(jet_trkAssoc_index[i][j])\n",
    "        if num_trk == 0:\n",
    "             continue\n",
    "        num_trks.append(num_trk)\n",
    "        for k in range(num_trk):\n",
    "            jtr = jet_trkAssoc_index[i][j][k]\n",
    "            tpt = trk_pt[i][jtr]\n",
    "            teta = trk_eta[i][jtr]\n",
    "            tphi = trk_phi[i][jtr]\n",
    "            \n",
    "            sum_pt+=tpt\n",
    "            \n",
    "            dR = np.sqrt((jeta-teta)**2+(jphi-tphi)**2)\n",
    "            if dR>5:\n",
    "                delta_R.append(abs(dR-6.28))\n",
    "            else:\n",
    "                delta_R.append(dR)\n",
    "        pt_ratio.append(sum_pt/jpt)"
   ]
  },
  {
   "cell_type": "code",
   "execution_count": 6,
   "id": "51e63033",
   "metadata": {},
   "outputs": [
    {
     "name": "stdout",
     "output_type": "stream",
     "text": [
      "58966\n"
     ]
    },
    {
     "data": {
      "image/png": "[encoded data removed]",
      "text/plain": [
       "<Figure size 432x288 with 1 Axes>"
      ]
     },
     "metadata": {
      "needs_background": "light"
     },
     "output_type": "display_data"
    },
    {
     "data": {
      "image/png": "[encoded data removed]",
      "text/plain": [
       "<Figure size 432x288 with 1 Axes>"
      ]
     },
     "metadata": {
      "needs_background": "light"
     },
     "output_type": "display_data"
    },
    {
     "data": {
      "image/png": "[encoded data removed]",
      "text/plain": [
       "<Figure size 432x288 with 1 Axes>"
      ]
     },
     "metadata": {
      "needs_background": "light"
     },
     "output_type": "display_data"
    }
   ],
   "source": [
    "print(len(delta_R))\n",
    "plt.hist(delta_R, bins=100,range=(0,0.6),color='red')\n",
    "plt.title(\"Delta R between Track and Associated Jet\")\n",
    "plt.legend([\"ttbar\"])\n",
    "plt.show()\n",
    "plt.hist(pt_ratio, bins=30,range=(0,4),color='red')\n",
    "plt.title(\"Ratio of Sum of Track pT to Associated Jet pT\")\n",
    "plt.legend([\"ttbar\"])\n",
    "plt.show()\n",
    "plt.hist(num_trks, bins=50,color='red',range=(0,50))\n",
    "plt.title(\"Number of Tracks Per Jet\")\n",
    "plt.legend([\"ttbar\"])\n",
    "plt.show()"
   ]
  },
  {
   "cell_type": "code",
   "execution_count": 7,
   "id": "4a95980c",
   "metadata": {},
   "outputs": [
    {
     "name": "stdout",
     "output_type": "stream",
     "text": [
      "[[[0, 1, 2, 3, 4, 5, 6, 7, 8, ..., 14, 15, 16, 17, 18, 19, 20, 21], ...], ...]\n",
      "[[1.54e+03, 1.22e+03, 1.49e+03, 1.12e+03, ..., 935, 1.64e+03, 1.64e+03], ...]\n"
     ]
    }
   ],
   "source": [
    "jet_pt = events_ZZ4nu[\"jet_pt_orig\"].array(library='ak')\n",
    "jet_eta = events_ZZ4nu[\"jet_eta\"].array(library='ak')\n",
    "jet_phi = events_ZZ4nu[\"jet_phi\"].array(library='ak')\n",
    "trk_pt = events_ZZ4nu[\"trk_pt\"].array(library='ak')\n",
    "trk_eta = events_ZZ4nu[\"trk_eta\"].array(library='ak')\n",
    "trk_phi = events_ZZ4nu[\"trk_phi\"].array(library='ak')\n",
    "\n",
    "jet_trkAssoc_index = events_ZZ4nu[\"jet_trackAssoc_index\"].array(library='ak')\n",
    "\n",
    "print(jet_trkAssoc_index)\n",
    "print(trk_pt)"
   ]
  },
  {
   "cell_type": "code",
   "execution_count": 8,
   "id": "153c0c84",
   "metadata": {},
   "outputs": [],
   "source": [
    "#events = len(jet_pt)\n",
    "events = 100\n",
    "\n",
    "delta_R = []\n",
    "pt_ratio = []\n",
    "num_trks = []\n",
    "\n",
    "for i in range(events):\n",
    "    for j in range(len(jet_pt[i])):\n",
    "        sum_pt = 0\n",
    "        \n",
    "        jpt = jet_pt[i][j]\n",
    "        jeta = jet_eta[i][j]\n",
    "        jphi = jet_phi[i][j]\n",
    "        \n",
    "        num_trk = len(jet_trkAssoc_index[i][j])\n",
    "        if num_trk == 0:\n",
    "             continue\n",
    "        num_trks.append(num_trk)\n",
    "        for k in range(num_trk):\n",
    "            jtr = jet_trkAssoc_index[i][j][k]\n",
    "            tpt = trk_pt[i][jtr]\n",
    "            teta = trk_eta[i][jtr]\n",
    "            tphi = trk_phi[i][jtr]\n",
    "            \n",
    "            sum_pt+=tpt\n",
    "            \n",
    "            dR = np.sqrt((jeta-teta)**2+(jphi-tphi)**2)\n",
    "            if dR>5:\n",
    "                delta_R.append(abs(dR-6.28))\n",
    "            else:\n",
    "                delta_R.append(dR)\n",
    "        pt_ratio.append(sum_pt/jpt)"
   ]
  },
  {
   "cell_type": "code",
   "execution_count": 9,
   "id": "2bf69ae7",
   "metadata": {},
   "outputs": [
    {
     "name": "stdout",
     "output_type": "stream",
     "text": [
      "64168\n"
     ]
    },
    {
     "data": {
      "image/png": "[encoded data removed]",
      "text/plain": [
       "<Figure size 432x288 with 1 Axes>"
      ]
     },
     "metadata": {
      "needs_background": "light"
     },
     "output_type": "display_data"
    },
    {
     "data": {
      "image/png": "[encoded data removed]",
      "text/plain": [
       "<Figure size 432x288 with 1 Axes>"
      ]
     },
     "metadata": {
      "needs_background": "light"
     },
     "output_type": "display_data"
    },
    {
     "data": {
      "image/png": "[encoded data removed]",
      "text/plain": [
       "<Figure size 432x288 with 1 Axes>"
      ]
     },
     "metadata": {
      "needs_background": "light"
     },
     "output_type": "display_data"
    }
   ],
   "source": [
    "print(len(delta_R))\n",
    "plt.hist(delta_R, bins=100,range=(0,0.6))\n",
    "plt.title(\"Delta R between Track and Associated Jet\")\n",
    "plt.legend([\"ZZ4nu\"])\n",
    "plt.show()\n",
    "plt.hist(pt_ratio, bins=30,range=(0,4))\n",
    "plt.title(\"Ratio of Sum of Track pT to Associated Jet pT\")\n",
    "plt.legend([\"ZZ4nu\"])\n",
    "plt.show()\n",
    "plt.hist(num_trks, bins=50,range=(0,50))\n",
    "plt.title(\"Number of Tracks Per Jet\")\n",
    "plt.legend([\"ZZ4nu\"])\n",
    "plt.show()"
   ]
  },
  {
   "cell_type": "code",
   "execution_count": null,
   "id": "2fce4902",
   "metadata": {},
   "outputs": [],
   "source": []
  }
 ],
 "metadata": {
  "kernelspec": {
   "display_name": "Python 3 (ipykernel)",
   "language": "python",
   "name": "python3"
  },
  "language_info": {
   "codemirror_mode": {
    "name": "ipython",
    "version": 3
   },
   "file_extension": ".py",
   "mimetype": "text/x-python",
   "name": "python",
   "nbconvert_exporter": "python",
   "pygments_lexer": "ipython3",
   "version": "3.10.12"
  }
 },
 "nbformat": 4,
 "nbformat_minor": 5
}
