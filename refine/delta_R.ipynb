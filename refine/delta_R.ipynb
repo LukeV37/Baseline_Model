{
 "cells": [
  {
   "cell_type": "code",
   "execution_count": 1,
   "id": "91e56322",
   "metadata": {},
   "outputs": [],
   "source": [
    "import uproot\n",
    "import numpy as np\n",
    "import matplotlib.pyplot as plt"
   ]
  },
  {
   "cell_type": "code",
   "execution_count": 2,
   "id": "77fece15",
   "metadata": {},
   "outputs": [],
   "source": [
    "events = uproot.open(\"../data/user.khanov.mc15_14TeV.600012.PhPy8EG_A14_ttbar_hdamp258p75_nonallhad.r12573_mc_trk_Akt4EMTo/user.khanov.37100851.Akt4EMTo._000001.root:bTag_AntiKt4EMTopoJets\")"
   ]
  },
  {
   "cell_type": "code",
   "execution_count": 3,
   "id": "d028b0fe",
   "metadata": {},
   "outputs": [],
   "source": [
    "#events.keys()\n",
    "#events.values()"
   ]
  },
  {
   "cell_type": "code",
   "execution_count": 4,
   "id": "93e6948a",
   "metadata": {},
   "outputs": [
    {
     "name": "stdout",
     "output_type": "stream",
     "text": [
      "[[[0, 1, 2, 3, 4, 5, 6, 7, 8, 9, 10, 11, 12, 13, 14, 15, 16], ..., [...]], ...]\n",
      "[[2.37e+04, 1.56e+04, 5.76e+03, 1.58e+04, ..., 596, 1.29e+03, 2.1e+03], ...]\n"
     ]
    }
   ],
   "source": [
    "jet_pt = events[\"jet_pt_orig\"].array(library='ak')\n",
    "jet_eta = events[\"jet_eta\"].array(library='ak')\n",
    "jet_phi = events[\"jet_phi\"].array(library='ak')\n",
    "trk_pt = events[\"trk_pt\"].array(library='ak')\n",
    "trk_eta = events[\"trk_eta\"].array(library='ak')\n",
    "trk_phi = events[\"trk_phi\"].array(library='ak')\n",
    "\n",
    "jet_trkAssoc_index = events[\"jet_trackAssoc_index\"].array(library='ak')\n",
    "\n",
    "print(jet_trkAssoc_index)\n",
    "print(trk_pt)"
   ]
  },
  {
   "cell_type": "code",
   "execution_count": 10,
   "id": "e7fcbd46",
   "metadata": {},
   "outputs": [],
   "source": [
    "#events = len(jet_pt)\n",
    "events = 10\n",
    "\n",
    "delta_R = []\n",
    "pt_ratio = []\n",
    "\n",
    "for i in range(10):\n",
    "    for j in range(len(jet_pt[i])):\n",
    "        sum_pt = 0\n",
    "        \n",
    "        jpt = jet_pt[i][j]\n",
    "        jeta = jet_eta[i][j]\n",
    "        jphi = jet_phi[i][j]\n",
    "        \n",
    "        num_trk = len(jet_trkAssoc_index[i][j])\n",
    "        for k in range(num_trk):\n",
    "            jtr = jet_trkAssoc_index[i][j][k]\n",
    "            tpt = trk_pt[i][jtr]\n",
    "            teta = trk_eta[i][jtr]\n",
    "            tphi = trk_phi[i][jtr]\n",
    "            \n",
    "            sum_pt+=tpt\n",
    "            \n",
    "            dR = np.sqrt((jeta-teta)**2+(jphi-tphi)**2)\n",
    "            if dR>5:\n",
    "                delta_R.append(abs(dR-6.28))\n",
    "            else:\n",
    "                delta_R.append(dR)\n",
    "        pt_ratio.append(sum_pt/jpt)"
   ]
  },
  {
   "cell_type": "code",
   "execution_count": 11,
   "id": "51e63033",
   "metadata": {},
   "outputs": [
    {
     "name": "stdout",
     "output_type": "stream",
     "text": [
      "6160\n"
     ]
    },
    {
     "data": {
      "image/png": "[encoded data removed]",
      "text/plain": [
       "<Figure size 432x288 with 1 Axes>"
      ]
     },
     "metadata": {
      "needs_background": "light"
     },
     "output_type": "display_data"
    },
    {
     "data": {
      "image/png": "[encoded data removed]",
      "text/plain": [
       "<Figure size 432x288 with 1 Axes>"
      ]
     },
     "metadata": {
      "needs_background": "light"
     },
     "output_type": "display_data"
    }
   ],
   "source": [
    "print(len(delta_R))\n",
    "plt.hist(delta_R, bins=100)\n",
    "plt.title(\"Delta R between Track and Associated Jet\")\n",
    "plt.show()\n",
    "plt.hist(pt_ratio, bins=20)\n",
    "plt.title(\"Ratio of Sum of Track pT to Assoc\")\n",
    "plt.show()"
   ]
  },
  {
   "cell_type": "code",
   "execution_count": null,
   "id": "4a95980c",
   "metadata": {},
   "outputs": [],
   "source": []
  }
 ],
 "metadata": {
  "kernelspec": {
   "display_name": "Python 3 (ipykernel)",
   "language": "python",
   "name": "python3"
  },
  "language_info": {
   "codemirror_mode": {
    "name": "ipython",
    "version": 3
   },
   "file_extension": ".py",
   "mimetype": "text/x-python",
   "name": "python",
   "nbconvert_exporter": "python",
   "pygments_lexer": "ipython3",
   "version": "3.10.12"
  }
 },
 "nbformat": 4,
 "nbformat_minor": 5
}
